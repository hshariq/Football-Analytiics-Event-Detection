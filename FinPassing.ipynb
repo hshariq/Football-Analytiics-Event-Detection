{
 "cells": [
  {
   "cell_type": "code",
   "execution_count": 11,
   "metadata": {},
   "outputs": [],
   "source": [
    "import pandas as pd"
   ]
  },
  {
   "cell_type": "code",
   "execution_count": 12,
   "metadata": {},
   "outputs": [
    {
     "data": {
      "text/html": [
       "<div>\n",
       "<style scoped>\n",
       "    .dataframe tbody tr th:only-of-type {\n",
       "        vertical-align: middle;\n",
       "    }\n",
       "\n",
       "    .dataframe tbody tr th {\n",
       "        vertical-align: top;\n",
       "    }\n",
       "\n",
       "    .dataframe thead th {\n",
       "        text-align: right;\n",
       "    }\n",
       "</style>\n",
       "<table border=\"1\" class=\"dataframe\">\n",
       "  <thead>\n",
       "    <tr style=\"text-align: right;\">\n",
       "      <th></th>\n",
       "      <th>teamId</th>\n",
       "      <th>frame</th>\n",
       "      <th>x</th>\n",
       "      <th>y</th>\n",
       "      <th>ball_posession</th>\n",
       "      <th>timestamp</th>\n",
       "    </tr>\n",
       "  </thead>\n",
       "  <tbody>\n",
       "    <tr>\n",
       "      <th>0</th>\n",
       "      <td>Blue</td>\n",
       "      <td>0</td>\n",
       "      <td>51</td>\n",
       "      <td>73</td>\n",
       "      <td>0</td>\n",
       "      <td>0.150150</td>\n",
       "    </tr>\n",
       "    <tr>\n",
       "      <th>1</th>\n",
       "      <td>Green</td>\n",
       "      <td>0</td>\n",
       "      <td>46</td>\n",
       "      <td>71</td>\n",
       "      <td>0</td>\n",
       "      <td>0.150150</td>\n",
       "    </tr>\n",
       "    <tr>\n",
       "      <th>2</th>\n",
       "      <td>Green</td>\n",
       "      <td>0</td>\n",
       "      <td>48</td>\n",
       "      <td>50</td>\n",
       "      <td>0</td>\n",
       "      <td>0.150150</td>\n",
       "    </tr>\n",
       "    <tr>\n",
       "      <th>3</th>\n",
       "      <td>Green</td>\n",
       "      <td>0</td>\n",
       "      <td>42</td>\n",
       "      <td>55</td>\n",
       "      <td>0</td>\n",
       "      <td>0.150150</td>\n",
       "    </tr>\n",
       "    <tr>\n",
       "      <th>4</th>\n",
       "      <td>Blue</td>\n",
       "      <td>0</td>\n",
       "      <td>49</td>\n",
       "      <td>34</td>\n",
       "      <td>0</td>\n",
       "      <td>0.150150</td>\n",
       "    </tr>\n",
       "    <tr>\n",
       "      <th>...</th>\n",
       "      <td>...</td>\n",
       "      <td>...</td>\n",
       "      <td>...</td>\n",
       "      <td>...</td>\n",
       "      <td>...</td>\n",
       "      <td>...</td>\n",
       "    </tr>\n",
       "    <tr>\n",
       "      <th>31514</th>\n",
       "      <td>Green</td>\n",
       "      <td>1566</td>\n",
       "      <td>29</td>\n",
       "      <td>51</td>\n",
       "      <td>0</td>\n",
       "      <td>23.840483</td>\n",
       "    </tr>\n",
       "    <tr>\n",
       "      <th>31515</th>\n",
       "      <td>Green</td>\n",
       "      <td>1566</td>\n",
       "      <td>35</td>\n",
       "      <td>43</td>\n",
       "      <td>0</td>\n",
       "      <td>23.840483</td>\n",
       "    </tr>\n",
       "    <tr>\n",
       "      <th>31516</th>\n",
       "      <td>Green</td>\n",
       "      <td>1566</td>\n",
       "      <td>20</td>\n",
       "      <td>62</td>\n",
       "      <td>0</td>\n",
       "      <td>23.840483</td>\n",
       "    </tr>\n",
       "    <tr>\n",
       "      <th>31517</th>\n",
       "      <td>Blue</td>\n",
       "      <td>1566</td>\n",
       "      <td>18</td>\n",
       "      <td>61</td>\n",
       "      <td>0</td>\n",
       "      <td>23.840483</td>\n",
       "    </tr>\n",
       "    <tr>\n",
       "      <th>31518</th>\n",
       "      <td>Red</td>\n",
       "      <td>1566</td>\n",
       "      <td>8</td>\n",
       "      <td>58</td>\n",
       "      <td>0</td>\n",
       "      <td>23.840483</td>\n",
       "    </tr>\n",
       "  </tbody>\n",
       "</table>\n",
       "<p>31519 rows × 6 columns</p>\n",
       "</div>"
      ],
      "text/plain": [
       "      teamId  frame   x   y  ball_posession  timestamp\n",
       "0       Blue      0  51  73               0   0.150150\n",
       "1      Green      0  46  71               0   0.150150\n",
       "2      Green      0  48  50               0   0.150150\n",
       "3      Green      0  42  55               0   0.150150\n",
       "4       Blue      0  49  34               0   0.150150\n",
       "...      ...    ...  ..  ..             ...        ...\n",
       "31514  Green   1566  29  51               0  23.840483\n",
       "31515  Green   1566  35  43               0  23.840483\n",
       "31516  Green   1566  20  62               0  23.840483\n",
       "31517   Blue   1566  18  61               0  23.840483\n",
       "31518    Red   1566   8  58               0  23.840483\n",
       "\n",
       "[31519 rows x 6 columns]"
      ]
     },
     "execution_count": 12,
     "metadata": {},
     "output_type": "execute_result"
    }
   ],
   "source": [
    "# df = pd.read_csv('players_blegium_japan.csv')\n",
    "# df = pd.read_csv('fifaplayers.csv')\n",
    "df = pd.read_csv('timestampplayers.csv')\n",
    "df"
   ]
  },
  {
   "cell_type": "code",
   "execution_count": 36,
   "metadata": {},
   "outputs": [
    {
     "data": {
      "text/plain": [
       "29"
      ]
     },
     "execution_count": 36,
     "metadata": {},
     "output_type": "execute_result"
    }
   ],
   "source": [
    "end_x"
   ]
  },
  {
   "cell_type": "code",
   "execution_count": 16,
   "metadata": {},
   "outputs": [
    {
     "name": "stdout",
     "output_type": "stream",
     "text": [
      "Points: [(23, 77, 'Green'), (29, 46, 'Green'), (23, 77, 'Blue'), (23, 77, 'Blue'), (23, 77, 'Blue'), (23, 76, 'Blue'), (22, 77, 'Blue'), (22, 77, 'Blue'), (22, 77, 'Blue'), (23, 77, 'Blue'), (22, 77, 'Blue'), (22, 77, 'Blue'), (22, 77, 'Blue'), (22, 77, 'Blue'), (21, 77, 'Green'), (21, 77, 'Green'), (21, 77, 'Blue'), (21, 77, 'Blue'), (22, 77, 'Blue'), (21, 77, 'Blue'), (22, 77, 'Blue'), (22, 77, 'Blue'), (22, 77, 'Blue'), (22, 77, 'Blue'), (21, 78, 'Green'), (22, 78, 'Green'), (22, 78, 'Green'), (21, 78, 'Green'), (21, 78, 'Green'), (22, 78, 'Green'), (21, 78, 'Green'), (21, 77, 'Green'), (22, 78, 'Green'), (21, 78, 'Green'), (22, 78, 'Green'), (22, 78, 'Green'), (22, 78, 'Blue'), (22, 78, 'Blue'), (22, 78, 'Blue'), (22, 78, 'Blue'), (22, 78, 'Blue'), (22, 78, 'Blue'), (42, 76, 'Blue'), (22, 78, 'Blue'), (41, 77, 'Blue'), (42, 77, 'Blue'), (41, 77, 'Blue'), (42, 78, 'Blue'), (42, 78, 'Green'), (41, 77, 'Green'), (42, 78, 'Green'), (42, 78, 'Green'), (43, 80, 'Green'), (42, 79, 'Green'), (42, 80, 'Blue'), (42, 80, 'Blue'), (42, 80, 'Blue'), (42, 80, 'Blue'), (42, 81, 'Blue'), (42, 81, 'Blue'), (42, 81, 'Blue'), (42, 81, 'Blue'), (41, 81, 'Blue'), (41, 81, 'Blue'), (41, 81, 'Green'), (41, 81, 'Green'), (41, 85, 'Blue'), (45, 61, 'Blue'), (41, 87, 'Blue'), (41, 86, 'Blue'), (42, 87, 'Blue'), (42, 89, 'Blue'), (42, 88, 'Blue'), (42, 89, 'Blue'), (41, 88, 'Blue'), (43, 87, 'Blue'), (42, 87, 'Green'), (41, 88, 'Green'), (41, 86, 'Green'), (41, 86, 'Green'), (41, 86, 'Green'), (41, 86, 'Green'), (41, 86, 'Green'), (39, 88, 'Green'), (40, 86, 'Green'), (39, 88, 'Green'), (40, 86, 'Green'), (40, 86, 'Green'), (40, 86, 'Green'), (40, 86, 'Green'), (40, 86, 'Green'), (40, 85, 'Green'), (40, 86, 'Green'), (40, 85, 'Green'), (40, 86, 'Green'), (40, 86, 'Green'), (32, 70, 'Green'), (46, 74, 'Green'), (32, 69, 'Green'), (32, 70, 'Green'), (32, 69, 'Green'), (32, 69, 'Green'), (33, 69, 'Green'), (33, 70, 'Green'), (33, 69, 'Green'), (33, 69, 'Green'), (35, 69, 'Blue'), (33, 69, 'Blue'), (35, 68, 'Blue'), (35, 68, 'Blue'), (32, 68, 'Green'), (33, 68, 'Green'), (32, 68, 'Green'), (32, 68, 'Green'), (33, 68, 'Green'), (33, 69, 'Green'), (33, 70, 'Green'), (33, 70, 'Green'), (33, 70, 'Green'), (33, 70, 'Green'), (33, 70, 'Green'), (33, 70, 'Green'), (36, 69, 'Blue'), (36, 70, 'Blue'), (36, 69, 'Blue'), (36, 69, 'Blue'), (36, 69, 'Blue'), (36, 69, 'Blue'), (36, 69, 'Blue'), (36, 69, 'Blue'), (36, 69, 'Blue'), (36, 69, 'Blue'), (36, 69, 'Blue'), (36, 69, 'Blue'), (36, 69, 'Blue'), (36, 69, 'Blue'), (36, 67, 'Blue'), (36, 67, 'Blue'), (31, 59, 'Blue'), (33, 66, 'Blue'), (33, 66, 'Green'), (36, 67, 'Green'), (33, 66, 'Green'), (31, 58, 'Green'), (33, 65, 'Green'), (33, 66, 'Green'), (37, 69, 'Blue'), (36, 67, 'Blue'), (37, 69, 'Blue'), (37, 69, 'Blue'), (37, 70, 'Blue'), (37, 69, 'Blue'), (37, 70, 'Blue'), (37, 70, 'Blue'), (37, 70, 'Blue'), (37, 70, 'Blue'), (39, 72, 'Blue'), (38, 70, 'Blue'), (39, 73, 'Blue'), (39, 72, 'Blue'), (39, 72, 'Blue'), (39, 72, 'Blue'), (39, 72, 'Blue'), (39, 72, 'Blue'), (39, 72, 'Blue'), (39, 72, 'Blue'), (37, 67, 'Blue'), (37, 67, 'Blue'), (37, 67, 'Blue'), (37, 67, 'Blue'), (37, 67, 'Blue'), (37, 67, 'Blue'), (37, 67, 'Blue'), (35, 65, 'Blue'), (37, 67, 'Blue'), (37, 67, 'Blue'), (34, 66, 'Green'), (37, 67, 'Green'), (34, 66, 'Green'), (34, 65, 'Green'), (34, 66, 'Green'), (34, 66, 'Green'), (35, 64, 'Green'), (35, 65, 'Green'), (35, 64, 'Green'), (35, 64, 'Green'), (35, 64, 'Green'), (35, 64, 'Green'), (42, 65, 'Green'), (35, 64, 'Green'), (42, 65, 'Green'), (42, 65, 'Green'), (42, 65, 'Green'), (42, 65, 'Green'), (42, 65, 'Green'), (42, 65, 'Green'), (42, 65, 'Green'), (42, 65, 'Green'), (42, 65, 'Green'), (42, 65, 'Green'), (45, 58, 'Blue'), (45, 59, 'Blue'), (46, 58, 'Blue'), (45, 58, 'Blue'), (61, 64, 'Green'), (46, 58, 'Green'), (61, 63, 'Green'), (48, 58, 'Green'), (60, 63, 'Green'), (61, 63, 'Green'), (59, 61, 'Green'), (60, 62, 'Green'), (61, 61, 'Green'), (61, 61, 'Green'), (61, 62, 'Green'), (61, 61, 'Green'), (63, 64, 'Green'), (61, 62, 'Green'), (63, 64, 'Green'), (63, 64, 'Green'), (62, 63, 'Green'), (62, 64, 'Green'), (61, 63, 'Green'), (62, 63, 'Green'), (48, 75, 'Green'), (48, 74, 'Green'), (47, 74, 'Green'), (48, 75, 'Green'), (47, 74, 'Green'), (47, 74, 'Green'), (45, 74, 'Green'), (45, 74, 'Green'), (48, 73, 'Green'), (48, 74, 'Green'), (48, 73, 'Green'), (48, 74, 'Green'), (48, 74, 'Green'), (48, 73, 'Green'), (48, 74, 'Green'), (48, 74, 'Green'), (61, 67, 'Green'), (61, 67, 'Green'), (61, 67, 'Green'), (61, 67, 'Green'), (61, 66, 'Green'), (61, 67, 'Green'), (61, 66, 'Green'), (61, 66, 'Green'), (61, 66, 'Green'), (61, 66, 'Green'), (61, 66, 'Green'), (61, 66, 'Green'), (61, 66, 'Green'), (61, 66, 'Green'), (61, 66, 'Green'), (61, 66, 'Green'), (61, 66, 'Green'), (61, 66, 'Green'), (61, 67, 'Green'), (61, 67, 'Green'), (60, 68, 'Green'), (60, 68, 'Green'), (60, 69, 'Green'), (60, 68, 'Green'), (60, 69, 'Green'), (60, 69, 'Green'), (60, 69, 'Green'), (60, 69, 'Green'), (60, 69, 'Green'), (60, 69, 'Green'), (59, 69, 'Green'), (60, 69, 'Green'), (59, 67, 'Green'), (59, 68, 'Green'), (59, 67, 'Green'), (59, 67, 'Green'), (59, 67, 'Green'), (59, 67, 'Green'), (59, 61, 'Blue'), (59, 67, 'Blue'), (59, 61, 'Blue'), (59, 61, 'Blue'), (60, 61, 'Blue'), (59, 61, 'Blue'), (60, 61, 'Blue'), (60, 61, 'Blue'), (60, 61, 'Blue'), (60, 61, 'Blue'), (61, 61, 'Blue'), (60, 61, 'Blue'), (68, 55, 'Green'), (67, 54, 'Green'), (68, 55, 'Green'), (68, 55, 'Green'), (68, 54, 'Green'), (68, 55, 'Green'), (68, 54, 'Green'), (73, 58, 'Green'), (68, 55, 'Green'), (68, 55, 'Green'), (68, 55, 'Green'), (68, 55, 'Green'), (68, 56, 'Green'), (68, 56, 'Green'), (68, 55, 'Green'), (68, 55, 'Green'), (68, 56, 'Green'), (68, 55, 'Green'), (68, 56, 'Green'), (68, 56, 'Green'), (68, 57, 'Green'), (68, 56, 'Green'), (69, 57, 'Green'), (69, 57, 'Green'), (69, 57, 'Green'), (69, 57, 'Green'), (73, 57, 'Blue'), (73, 57, 'Blue'), (73, 57, 'Blue'), (73, 57, 'Blue'), (69, 56, 'Green'), (73, 57, 'Green'), (73, 56, 'Blue'), (73, 56, 'Blue'), (77, 49, 'Blue'), (88, 45, 'Blue'), (71, 31, 'Green'), (77, 49, 'Green'), (71, 30, 'Green'), (71, 30, 'Green'), (72, 30, 'Green'), (71, 30, 'Green'), (72, 31, 'Green'), (72, 31, 'Green'), (79, 27, 'Green'), (79, 27, 'Green'), (79, 27, 'Green'), (79, 27, 'Green'), (79, 27, 'Green'), (79, 27, 'Green'), (79, 26, 'Green'), (79, 26, 'Green'), (79, 26, 'Green'), (79, 26, 'Green'), (79, 26, 'Green'), (79, 26, 'Green'), (80, 30, 'Blue'), (79, 26, 'Blue'), (81, 26, 'Green'), (81, 26, 'Green'), (81, 26, 'Green'), (81, 26, 'Green'), (81, 26, 'Green'), (81, 26, 'Green'), (81, 26, 'Green'), (81, 26, 'Green'), (81, 26, 'Green'), (81, 26, 'Green'), (82, 25, 'Green'), (82, 26, 'Green'), (82, 25, 'Green'), (82, 26, 'Green'), (82, 25, 'Green'), (82, 25, 'Green'), (82, 25, 'Green'), (82, 25, 'Green'), (83, 26, 'Green'), (82, 25, 'Green'), (83, 25, 'Green'), (83, 26, 'Green'), (83, 25, 'Green'), (83, 25, 'Green'), (83, 25, 'Green'), (83, 25, 'Green'), (79, 46, 'Blue'), (83, 26, 'Blue'), (95, 36, 'Blue'), (79, 46, 'Blue'), (95, 36, 'Blue'), (95, 36, 'Blue'), (95, 36, 'Blue'), (95, 36, 'Blue'), (95, 36, 'Blue'), (95, 36, 'Blue'), (94, 37, 'Blue'), (94, 37, 'Blue'), (94, 37, 'Blue'), (94, 37, 'Blue'), (93, 37, 'Blue'), (93, 37, 'Blue'), (93, 37, 'Blue'), (93, 37, 'Blue'), (92, 37, 'Blue'), (93, 37, 'Blue'), (92, 36, 'Blue'), (92, 37, 'Blue'), (91, 37, 'Blue'), (92, 37, 'Blue'), (91, 37, 'Blue'), (91, 37, 'Blue'), (91, 37, 'Blue'), (91, 37, 'Blue'), (90, 37, 'Blue'), (91, 37, 'Blue'), (90, 37, 'Blue'), (90, 37, 'Blue'), (90, 37, 'Blue'), (90, 37, 'Blue'), (77, 44, 'Green'), (90, 37, 'Green'), (75, 62, 'Blue'), (75, 62, 'Blue'), (75, 62, 'Blue'), (75, 62, 'Blue'), (75, 62, 'Blue'), (75, 62, 'Blue'), (75, 45, 'Green'), (75, 62, 'Green'), (75, 61, 'Blue'), (75, 62, 'Blue'), (75, 62, 'Blue'), (75, 62, 'Blue'), (75, 61, 'Blue'), (75, 61, 'Blue'), (76, 61, 'Blue'), (76, 62, 'Blue'), (73, 43, 'Blue'), (73, 44, 'Blue'), (73, 44, 'Blue'), (73, 43, 'Blue'), (55, 53, 'Blue'), (55, 53, 'Blue'), (55, 53, 'Blue'), (55, 53, 'Blue'), (55, 53, 'Blue'), (55, 53, 'Blue'), (55, 54, 'Blue'), (55, 53, 'Blue'), (55, 52, 'Blue'), (55, 51, 'Blue'), (55, 52, 'Blue'), (55, 52, 'Blue'), (55, 54, 'Blue'), (55, 52, 'Blue'), (55, 52, 'Blue'), (55, 53, 'Blue'), (55, 53, 'Blue'), (55, 53, 'Blue'), (55, 54, 'Blue'), (55, 52, 'Blue'), (55, 54, 'Blue'), (55, 54, 'Blue'), (55, 54, 'Blue'), (55, 54, 'Blue'), (56, 54, 'Blue'), (55, 54, 'Blue'), (56, 54, 'Blue'), (56, 54, 'Blue'), (55, 54, 'Blue'), (56, 54, 'Blue'), (55, 54, 'Blue'), (55, 54, 'Blue'), (55, 54, 'Blue'), (55, 54, 'Blue'), (55, 55, 'Blue'), (55, 54, 'Blue'), (55, 55, 'Blue'), (55, 55, 'Blue'), (55, 55, 'Blue'), (55, 54, 'Blue'), (55, 55, 'Blue'), (55, 55, 'Blue'), (55, 55, 'Blue'), (55, 55, 'Blue'), (55, 55, 'Blue'), (55, 55, 'Blue'), (55, 55, 'Blue'), (55, 55, 'Blue'), (55, 55, 'Blue'), (55, 55, 'Blue'), (55, 55, 'Blue'), (55, 55, 'Blue'), (55, 55, 'Blue'), (55, 55, 'Blue'), (55, 55, 'Blue'), (55, 55, 'Blue'), (55, 55, 'Blue'), (55, 55, 'Blue'), (55, 55, 'Blue'), (55, 55, 'Blue'), (55, 55, 'Blue'), (55, 55, 'Blue'), (55, 55, 'Blue'), (55, 55, 'Blue'), (55, 55, 'Blue'), (55, 55, 'Blue'), (55, 55, 'Blue'), (55, 55, 'Blue'), (54, 55, 'Blue'), (55, 55, 'Blue'), (54, 55, 'Blue'), (54, 55, 'Blue'), (54, 55, 'Blue'), (54, 55, 'Blue'), (54, 55, 'Blue'), (54, 55, 'Blue'), (54, 55, 'Blue'), (54, 55, 'Blue'), (54, 55, 'Blue'), (54, 55, 'Blue'), (54, 55, 'Blue'), (54, 55, 'Blue'), (50, 56, 'Green'), (54, 55, 'Green'), (50, 55, 'Green'), (54, 55, 'Green'), (54, 55, 'Blue'), (54, 55, 'Blue'), (51, 55, 'Green'), (51, 55, 'Green'), (51, 55, 'Green'), (51, 55, 'Green'), (51, 55, 'Green'), (51, 55, 'Green'), (51, 55, 'Green'), (51, 55, 'Green'), (55, 55, 'Green'), (55, 55, 'Green'), (53, 56, 'Blue'), (55, 55, 'Blue'), (55, 54, 'Green'), (55, 55, 'Green'), (53, 57, 'Blue'), (55, 55, 'Blue'), (54, 55, 'Green'), (53, 58, 'Green'), (52, 58, 'Blue'), (53, 58, 'Blue'), (52, 58, 'Blue'), (52, 58, 'Blue'), (52, 58, 'Blue'), (52, 58, 'Blue'), (52, 58, 'Blue'), (52, 58, 'Blue'), (52, 58, 'Blue'), (52, 58, 'Blue'), (52, 59, 'Blue'), (61, 44, 'Blue'), (52, 59, 'Blue'), (61, 44, 'Blue'), (52, 59, 'Blue'), (49, 63, 'Blue'), (48, 63, 'Blue'), (52, 59, 'Blue'), (48, 63, 'Blue'), (48, 63, 'Blue'), (48, 63, 'Blue'), (48, 63, 'Blue'), (47, 63, 'Blue'), (47, 63, 'Blue'), (47, 63, 'Blue'), (51, 60, 'Blue'), (46, 63, 'Blue'), (47, 63, 'Blue'), (46, 63, 'Blue'), (60, 44, 'Blue'), (51, 56, 'Green'), (51, 61, 'Green'), (46, 63, 'Blue'), (46, 63, 'Blue'), (46, 63, 'Blue'), (46, 63, 'Blue'), (50, 62, 'Blue'), (46, 63, 'Blue'), (50, 62, 'Blue'), (50, 62, 'Blue'), (50, 62, 'Blue'), (50, 62, 'Blue'), (50, 62, 'Blue'), (50, 62, 'Blue'), (50, 62, 'Blue'), (50, 62, 'Blue'), (50, 63, 'Blue'), (50, 63, 'Blue'), (49, 63, 'Blue'), (50, 63, 'Blue'), (49, 64, 'Blue'), (49, 63, 'Blue'), (49, 64, 'Blue'), (49, 64, 'Blue'), (49, 64, 'Blue'), (49, 64, 'Blue'), (49, 64, 'Blue'), (49, 64, 'Blue'), (49, 65, 'Blue'), (49, 65, 'Blue'), (48, 65, 'Blue'), (49, 65, 'Blue'), (48, 66, 'Blue'), (48, 65, 'Blue'), (48, 66, 'Blue'), (48, 65, 'Blue'), (48, 66, 'Blue'), (48, 66, 'Blue'), (48, 66, 'Blue'), (48, 66, 'Blue'), (47, 67, 'Blue'), (48, 67, 'Blue'), (47, 66, 'Blue'), (47, 67, 'Blue'), (47, 68, 'Blue'), (47, 68, 'Blue'), (47, 68, 'Blue'), (47, 68, 'Blue'), (47, 67, 'Blue'), (47, 68, 'Blue'), (47, 68, 'Blue'), (47, 68, 'Blue'), (47, 68, 'Blue'), (47, 68, 'Blue'), (58, 60, 'Blue'), (47, 69, 'Blue'), (46, 69, 'Blue'), (47, 69, 'Blue'), (46, 70, 'Blue'), (46, 69, 'Blue'), (46, 70, 'Blue'), (46, 70, 'Blue'), (46, 71, 'Blue'), (46, 70, 'Blue'), (46, 70, 'Blue'), (46, 71, 'Blue'), (46, 70, 'Blue'), (46, 70, 'Blue'), (46, 70, 'Blue'), (46, 70, 'Blue'), (46, 70, 'Blue'), (46, 70, 'Blue'), (46, 71, 'Blue'), (46, 71, 'Blue'), (45, 71, 'Blue'), (46, 71, 'Blue'), (45, 71, 'Blue'), (45, 71, 'Blue'), (45, 71, 'Blue'), (45, 71, 'Blue'), (45, 71, 'Blue'), (45, 71, 'Blue'), (45, 71, 'Blue'), (45, 72, 'Blue'), (45, 71, 'Blue'), (45, 71, 'Blue'), (45, 71, 'Blue'), (45, 72, 'Blue'), (45, 72, 'Blue'), (45, 72, 'Blue'), (40, 72, 'Green'), (40, 72, 'Green'), (35, 67, 'Green'), (44, 71, 'Green'), (35, 68, 'Green'), (35, 68, 'Green'), (35, 68, 'Green'), (35, 67, 'Green'), (34, 65, 'Green'), (35, 68, 'Green'), (53, 64, 'Green'), (51, 46, 'Green'), (32, 60, 'Blue'), (32, 60, 'Blue'), (32, 60, 'Blue'), (32, 60, 'Blue'), (31, 59, 'Blue'), (32, 60, 'Blue'), (31, 59, 'Blue'), (31, 59, 'Blue'), (31, 59, 'Blue'), (31, 59, 'Blue'), (31, 59, 'Blue'), (31, 58, 'Blue'), (30, 57, 'Blue'), (31, 59, 'Blue'), (30, 58, 'Blue'), (31, 59, 'Blue'), (31, 59, 'Blue'), (30, 58, 'Blue'), (31, 58, 'Blue'), (31, 58, 'Blue'), (31, 59, 'Blue'), (31, 59, 'Blue'), (31, 59, 'Blue'), (31, 58, 'Blue'), (30, 59, 'Blue'), (31, 59, 'Blue'), (31, 59, 'Blue'), (30, 59, 'Blue'), (31, 60, 'Blue'), (31, 59, 'Blue'), (31, 60, 'Blue'), (31, 60, 'Blue'), (31, 60, 'Blue'), (31, 60, 'Blue'), (31, 60, 'Blue'), (31, 60, 'Blue'), (30, 59, 'Blue'), (43, 32, 'Blue'), (30, 59, 'Blue'), (30, 59, 'Blue'), (30, 59, 'Blue'), (30, 59, 'Blue'), (30, 59, 'Blue'), (30, 59, 'Blue'), (30, 59, 'Blue'), (30, 59, 'Blue'), (30, 59, 'Blue'), (30, 59, 'Blue'), (30, 59, 'Blue'), (30, 59, 'Blue'), (30, 58, 'Blue'), (30, 59, 'Blue'), (30, 58, 'Blue'), (30, 58, 'Blue'), (29, 58, 'Blue'), (30, 58, 'Blue'), (29, 58, 'Blue'), (29, 58, 'Blue'), (29, 57, 'Blue'), (29, 58, 'Blue'), (28, 57, 'Blue'), (29, 57, 'Blue'), (28, 57, 'Blue'), (28, 57, 'Blue'), (28, 57, 'Blue'), (28, 57, 'Blue'), (27, 57, 'Blue'), (28, 57, 'Blue'), (27, 57, 'Blue'), (29, 54, 'Blue'), (27, 57, 'Blue'), (27, 57, 'Blue'), (34, 44, 'Blue'), (35, 41, 'Blue'), (33, 45, 'Blue'), (34, 44, 'Blue'), (33, 41, 'Blue'), (33, 44, 'Blue'), (30, 46, 'Blue'), (33, 42, 'Blue'), (30, 45, 'Blue'), (30, 45, 'Blue'), (29, 45, 'Blue'), (29, 46, 'Blue')]\n"
     ]
    },
    {
     "data": {
      "text/plain": [
       "752"
      ]
     },
     "execution_count": 16,
     "metadata": {},
     "output_type": "execute_result"
    }
   ],
   "source": [
    "points = []\n",
    "start_x = None\n",
    "start_y = None\n",
    "\n",
    "for index, row in df.iterrows():\n",
    "    if row['ball_posession'] == 1:  # Check if ball possession is 1\n",
    "        if start_x is None:  # Starting point\n",
    "            start_x = row['x']\n",
    "            start_y = row['y']\n",
    "            points.append((start_x, start_y, row['teamId']))  # Append starting point\n",
    "            points.append((end_x, end_y, row['teamId']))      # Append ending point\n",
    "        else:  # Ending point\n",
    "            end_x = row['x']\n",
    "            end_y = row['y']\n",
    "            start_x = None\n",
    "            start_y = None\n",
    "\n",
    "\n",
    "# # If the loop ends with an ongoing possession, consider it as an ending point\n",
    "# if start_x is not None:\n",
    "#     end_x = row['x']\n",
    "#     print(\"End X:\", row[])\n",
    "#     end_y = row['y']\n",
    "#     if row['ball_posession'] == 1:\n",
    "#         points.append((start_x, start_y, row['teamId']))  # Append starting point\n",
    "#         points.append((end_x, end_y, row['teamId']))      # Append ending point\n",
    "\n",
    "print(\"Points:\", points)\n",
    "len(points)"
   ]
  },
  {
   "cell_type": "code",
   "execution_count": 156,
   "metadata": {},
   "outputs": [
    {
     "data": {
      "text/plain": [
       "2\n",
       "Blue     472\n",
       "Green    280\n",
       "Name: count, dtype: int64"
      ]
     },
     "execution_count": 156,
     "metadata": {},
     "output_type": "execute_result"
    }
   ],
   "source": [
    "# Convert the list object 'points' to a pandas DataFrame\n",
    "df_points = pd.DataFrame(points)\n",
    "\n",
    "# Count the occurrences of the value 2 in the DataFrame\n",
    "count = df_points[2].value_counts()\n",
    "\n",
    "count\n",
    "# points.values.count(2)"
   ]
  },
  {
   "cell_type": "code",
   "execution_count": 157,
   "metadata": {},
   "outputs": [],
   "source": [
    "for i in range(5):\n",
    "    current_point = points[i]\n",
    "    next_point = points[i + 1]\n",
    "    # Extract coordinates and teamID\n",
    "    current_coords = current_point[:2]\n",
    "    next_coords = next_point[:2]\n",
    "    team_id_current = current_point[2]\n",
    "    team_id_next = next_point[2]\n",
    "    distance = ((current_coords[0] - next_coords[0])**2 + (current_coords[1] - next_coords[1])**2)**0.5\n"
   ]
  },
  {
   "cell_type": "code",
   "execution_count": 168,
   "metadata": {},
   "outputs": [
    {
     "name": "stdout",
     "output_type": "stream",
     "text": [
      "    Starting_Point Ending_Point     PassCompletion   Team\n",
      "0         (23, 77)     (29, 46)     pass completed  Green\n",
      "1         (29, 46)     (23, 77)    pass incomplete  Green\n",
      "2         (23, 77)     (23, 77)  no pass attempted   Blue\n",
      "3         (23, 77)     (23, 77)  no pass attempted   Blue\n",
      "4         (23, 77)     (23, 76)     pass completed   Blue\n",
      "..             ...          ...                ...    ...\n",
      "746       (30, 46)     (33, 42)     pass completed   Blue\n",
      "747       (33, 42)     (30, 45)     pass completed   Blue\n",
      "748       (30, 45)     (30, 45)  no pass attempted   Blue\n",
      "749       (30, 45)     (29, 45)     pass completed   Blue\n",
      "750       (29, 45)     (29, 46)     pass completed   Blue\n",
      "\n",
      "[751 rows x 4 columns]\n"
     ]
    }
   ],
   "source": [
    "import pandas as pd\n",
    "# Initialize lists to store data for DataFrame\n",
    "starting_points = []\n",
    "ending_points = []\n",
    "pass_completions = []\n",
    "team=[]\n",
    "\n",
    "# Iterate through the points list\n",
    "for i in range(len(points) - 1):\n",
    "    current_point = points[i]\n",
    "    next_point = points[i + 1]\n",
    "\n",
    "    # Extract coordinates and teamID\n",
    "    current_coords = current_point[:2]\n",
    "    next_coords = next_point[:2]\n",
    "    team_id_current = current_point[2]\n",
    "    team_id_next = next_point[2]\n",
    "\n",
    "    # Determine pass completion\n",
    "    if team_id_current == team_id_next:\n",
    "        if current_coords == next_coords:\n",
    "            pass_completions.append(\"no pass attempted\")\n",
    "            team.append(team_id_current)\n",
    "        else:\n",
    "            pass_completions.append(\"pass completed\")\n",
    "            team.append(team_id_current)\n",
    "    else:\n",
    "        pass_completions.append(\"pass incomplete\")\n",
    "        team.append(team_id_current)\n",
    "\n",
    "    # Add starting and ending points to lists\n",
    "    starting_points.append(current_coords)\n",
    "    ending_points.append(next_coords)\n",
    "\n",
    "# Create DataFrame\n",
    "df_fin = pd.DataFrame({\n",
    "    \"Starting_Point\": starting_points,\n",
    "    \"Ending_Point\": ending_points,\n",
    "    \"PassCompletion\": pass_completions,\n",
    "    \"Team\": team\n",
    "})\n",
    "\n",
    "print(df_fin)\n"
   ]
  },
  {
   "cell_type": "code",
   "execution_count": 169,
   "metadata": {},
   "outputs": [
    {
     "name": "stdout",
     "output_type": "stream",
     "text": [
      "DataFrame after removing rows with distance below threshold (except 'no pass attempted'):\n",
      "    Starting_Point Ending_Point     PassCompletion   Team\n",
      "0         (23, 77)     (29, 46)     pass completed  Green\n",
      "1         (29, 46)     (23, 77)    pass incomplete  Green\n",
      "2         (23, 77)     (23, 77)  no pass attempted   Blue\n",
      "3         (23, 77)     (23, 77)  no pass attempted   Blue\n",
      "6         (22, 77)     (22, 77)  no pass attempted   Blue\n",
      "..             ...          ...                ...    ...\n",
      "731       (28, 57)     (28, 57)  no pass attempted   Blue\n",
      "732       (28, 57)     (28, 57)  no pass attempted   Blue\n",
      "738       (27, 57)     (27, 57)  no pass attempted   Blue\n",
      "739       (27, 57)     (34, 44)     pass completed   Blue\n",
      "748       (30, 45)     (30, 45)  no pass attempted   Blue\n",
      "\n",
      "[398 rows x 4 columns]\n"
     ]
    }
   ],
   "source": [
    "import numpy as np\n",
    " \n",
    "# Function to calculate Euclidean distance between two points\n",
    "def euclidean_distance(point1, point2):\n",
    "    return np.sqrt((point1[0] - point2[0]) ** 2 + (point1[1] - point2[1]) ** 2)\n",
    "\n",
    "# Threshold distance\n",
    "threshold = 10\n",
    "\n",
    "# Iterate through each row and apply distance threshold if PassCompletion is not \"no pass attempted\"\n",
    "for index, row in df_fin.iterrows():\n",
    "    if row['Team'] != 'Red':\n",
    "        if row['PassCompletion'] != \"no pass attempted\":\n",
    "            distance = euclidean_distance(row['Starting_Point'], row['Ending_Point'])\n",
    "            if distance < threshold:\n",
    "                # Remove row if distance is below threshold\n",
    "                df_fin.drop(index, inplace=True)\n",
    "\n",
    "print(\"DataFrame after removing rows with distance below threshold (except 'no pass attempted'):\")\n",
    "print(df_fin)"
   ]
  },
  {
   "cell_type": "code",
   "execution_count": 203,
   "metadata": {},
   "outputs": [
    {
     "name": "stdout",
     "output_type": "stream",
     "text": [
      "    Starting_Point Ending_Point     PassCompletion   Team   TypeOfPass\n",
      "0         (23, 77)     (29, 46)     pass completed  Green  Normal Pass\n",
      "1         (29, 46)     (23, 77)    pass incomplete  Green  Normal Pass\n",
      "2         (23, 77)     (23, 77)  no pass attempted   Blue  Normal Pass\n",
      "3         (23, 77)     (23, 77)  no pass attempted   Blue  Normal Pass\n",
      "6         (22, 77)     (22, 77)  no pass attempted   Blue  Normal Pass\n",
      "..             ...          ...                ...    ...          ...\n",
      "731       (28, 57)     (28, 57)  no pass attempted   Blue  Normal Pass\n",
      "732       (28, 57)     (28, 57)  no pass attempted   Blue  Normal Pass\n",
      "738       (27, 57)     (27, 57)  no pass attempted   Blue  Normal Pass\n",
      "739       (27, 57)     (34, 44)     pass completed   Blue  Normal Pass\n",
      "748       (30, 45)     (30, 45)  no pass attempted   Blue  Normal Pass\n",
      "\n",
      "[398 rows x 5 columns]\n"
     ]
    }
   ],
   "source": [
    "# Coordinates of the goal\n",
    "gc_left = (0, 40)\n",
    "gc_right = (120, 0)\n",
    "\n",
    "# Define the starting and ending rectangles\n",
    "sixyard_left = [(0, 18), (18, 18), (18, 62), (0, 62)]\n",
    "pen_left = [(0, 30), (5, 30), (5, 50), (0, 50)]\n",
    "#right\n",
    "sixyard_right = [(115, 30), (120, 30), (115, 50), (120, 50)]\n",
    "pen_right=[(102, 18), (120, 18), (120, 62), (102, 62)]\n",
    "\n",
    "def euclidean_distance(point1, point2):\n",
    "    return np.sqrt((point1[0] - point2[0])**2 + (point1[1] - point2[1])**2)\n",
    "\n",
    "# Calculate progressive pass\n",
    "def is_progressive_pass(start, end, goal, threshold=0.25):\n",
    "    start_distance = euclidean_distance(start, goal)\n",
    "    end_distance = euclidean_distance(end, goal)\n",
    "    return end_distance < start_distance * (1 - threshold)\n",
    "\n",
    "def point_in_rectangle(point, rect):\n",
    "    x, y = point\n",
    "    x_coords, y_coords = zip(*rect)\n",
    "    return min(x_coords) <= x <= max(x_coords) and min(y_coords) <= y <= max(y_coords)\n",
    "\n",
    "def determine_pass_type(row):\n",
    "    if row['PassCompletion'] != 'no pass attempted': #chekc how many passes attempted were progressive, completed or incomplete, effective\n",
    "        if row['Team'] == 'Blue':\n",
    "            goal_coordinates = gc_left\n",
    "            starting_rect=pen_left\n",
    "            ending_rect=sixyard_left\n",
    "        else:\n",
    "            goal_coordinates = gc_right\n",
    "            starting_rect=pen_left\n",
    "            ending_rect=sixyard_right\n",
    "        if point_in_rectangle(row['Starting_Point'], starting_rect) and point_in_rectangle(row['Ending_Point'], ending_rect):\n",
    "            return 'cutback'\n",
    "        if is_progressive_pass(row['Starting_Point'], row['Ending_Point'], goal_coordinates):\n",
    "            return 'progressive pass'\n",
    "        if not point_in_rectangle(row['Starting_Point'], ending_rect) and point_in_rectangle(row['Ending_Point'], ending_rect):\n",
    "            return 'cross'\n",
    "        if euclidean_distance(row['Starting_Point'], row['Ending_Point']) > 32:  # 35 yards = ~32 meters\n",
    "            return 'long ball'\n",
    "    return 'Normal Pass'\n",
    "\n",
    "df_fin['TypeOfPass'] = df_fin.apply(determine_pass_type, axis=1)\n",
    "\n",
    "# Display the DataFrame\n",
    "print(df_fin)"
   ]
  },
  {
   "cell_type": "code",
   "execution_count": null,
   "metadata": {},
   "outputs": [],
   "source": [
    "#check is first ball_possesion= 1 and then suppose if frame was 4, it isnntalty shifts to frame 5 and keeps on moving until it sppots a next ball_possesion=1, and in the mean time it keeps checking if ball was detected in any of the rectangles, if yes, then it is a goal\n",
    "#make alag shots ka df"
   ]
  },
  {
   "cell_type": "code",
   "execution_count": 171,
   "metadata": {},
   "outputs": [
    {
     "name": "stdout",
     "output_type": "stream",
     "text": [
      "PassCompletion\n",
      "no pass attempted    350\n",
      "pass completed        38\n",
      "pass incomplete       10\n",
      "Name: count, dtype: int64\n"
     ]
    }
   ],
   "source": [
    "print(df_fin['PassCompletion'].value_counts())"
   ]
  },
  {
   "cell_type": "code",
   "execution_count": 172,
   "metadata": {},
   "outputs": [],
   "source": [
    "#find maxium ycoordinate in both starting and ending point in df_fin\n",
    "max_y = max(df_fin['Starting_Point'].apply(lambda x: x[1]).max(), df_fin['Ending_Point'].apply(lambda x: x[1]).max())\n",
    "max_y\n",
    "over= max_y-80"
   ]
  },
  {
   "cell_type": "code",
   "execution_count": 207,
   "metadata": {},
   "outputs": [
    {
     "name": "stdout",
     "output_type": "stream",
     "text": [
      "    Starting_Point Ending_Point  PassCompletion   Team   TypeOfPass\n",
      "0         (23, 77)     (29, 46)  pass completed  Green  Normal Pass\n",
      "41        (22, 78)     (42, 76)  pass completed   Blue  Normal Pass\n",
      "66        (41, 85)     (45, 61)  pass completed   Blue  Normal Pass\n",
      "95        (40, 86)     (32, 70)  pass completed  Green  Normal Pass\n",
      "204       (61, 64)     (46, 58)  pass completed  Green  Normal Pass\n",
      "223       (62, 63)     (48, 75)  pass completed  Green  Normal Pass\n",
      "239       (48, 74)     (61, 67)  pass completed  Green  Normal Pass\n",
      "324       (77, 49)     (88, 45)  pass completed   Blue  Normal Pass\n",
      "326       (71, 31)     (77, 49)  pass completed  Green  Normal Pass\n",
      "374       (79, 46)     (83, 26)  pass completed   Blue  Normal Pass\n",
      "408       (77, 44)     (90, 37)  pass completed  Green  Normal Pass\n",
      "416       (75, 45)     (75, 62)  pass completed  Green  Normal Pass\n",
      "425       (76, 62)     (73, 43)  pass completed   Blue  Normal Pass\n",
      "546       (52, 59)     (61, 44)  pass completed   Blue  Normal Pass\n",
      "564       (46, 63)     (60, 44)  pass completed   Blue  Normal Pass\n",
      "619       (47, 68)     (58, 60)  pass completed   Blue  Normal Pass\n",
      "665       (35, 68)     (53, 64)  pass completed  Green  Normal Pass\n",
      "704       (30, 59)     (43, 32)  pass completed   Blue  Normal Pass\n",
      "739       (27, 57)     (34, 44)  pass completed   Blue  Normal Pass\n"
     ]
    },
    {
     "data": {
      "text/plain": [
       "19"
      ]
     },
     "execution_count": 207,
     "metadata": {},
     "output_type": "execute_result"
    }
   ],
   "source": [
    "filtered_rows = []\n",
    "previous_end_point = None\n",
    "\n",
    "for index, row in df_fin.iterrows():\n",
    "    if row['PassCompletion'] == \"pass completed\":\n",
    "        if previous_end_point is None or row['Starting_Point'] != previous_end_point:\n",
    "            filtered_rows.append(row)\n",
    "        previous_end_point = row['Ending_Point']\n",
    "\n",
    "filtered_df = pd.DataFrame(filtered_rows)\n",
    "print(filtered_df)  \n",
    "len(filtered_df)"
   ]
  },
  {
   "cell_type": "code",
   "execution_count": null,
   "metadata": {},
   "outputs": [],
   "source": [
    "#do tosql here\n",
    "df_fin.to_csv('fifapasses.csv', index=False)    "
   ]
  },
  {
   "cell_type": "code",
   "execution_count": 208,
   "metadata": {},
   "outputs": [
    {
     "data": {
      "image/png": "[encoded data removed]",
      "text/plain": [
       "<Figure size 640x480 with 1 Axes>"
      ]
     },
     "metadata": {},
     "output_type": "display_data"
    }
   ],
   "source": [
    "import matplotlib.pyplot as plt\n",
    "import pandas as pd\n",
    "from mplsoccer import Pitch\n",
    "\n",
    "# Filter out passes where the starting point of the current pass is the same as the ending point of the previous pass\n",
    "filtered_rows = []\n",
    "previous_end_point = None\n",
    "\n",
    "for index, row in df_fin.iterrows():\n",
    "    if row['PassCompletion'] == \"pass completed\":\n",
    "        if previous_end_point is None or row['Starting_Point'] != previous_end_point:\n",
    "            filtered_rows.append(row)\n",
    "        previous_end_point = row['Ending_Point']\n",
    "\n",
    "filtered_df = pd.DataFrame(filtered_rows)\n",
    "\n",
    "# Assuming you have already created a plot named 'ax'\n",
    "pitch = Pitch(pitch_color='green', goal_type='box', goal_alpha=1)\n",
    "fig, ax = pitch.draw()\n",
    "\n",
    "# Assigning colors based on PassCompletion\n",
    "pass_completion_colors = {\n",
    "    \"no pass attempted\": \"blue\",\n",
    "    \"pass completed\": \"yellow\",\n",
    "    \"pass incomplete\": \"red\"\n",
    "}\n",
    "\n",
    "c=0\n",
    "# Iterate through the DataFrame to plot arrows between consecutive points\n",
    "for index, row in filtered_df.iterrows():\n",
    "    if row['PassCompletion'] == \"pass completed\":\n",
    "        if row['Team'] == 'Blue':\n",
    "            x_start, y_start = row['Starting_Point']     # Starting point\n",
    "            x_end, y_end = row['Ending_Point']     # Ending point\n",
    "            pass_completion = row['PassCompletion']  # Pass completion status\n",
    "            # Plotting arrows and scatter points\n",
    "            y_start= y_start-over\n",
    "            y_end= y_end-over\n",
    "            ax.annotate(\"\", xy=(x_start, y_start), xytext=(x_end, y_end),\n",
    "                    arrowprops=dict(arrowstyle='->', color='blue'), alpha=0.5,\n",
    "                    bbox=dict(boxstyle='round,pad=0.3', fc='white', ec='black', lw=1))\n",
    "            # ax.arrow(x_start, y_start, x_end - x_start, y_end - y_start,\n",
    "            #          color=pass_completion_colors[pass_completion], alpha=0.3,\n",
    "            #          head_width=2, head_length=2, zorder=2)  # Adjust head width and length as needed\n",
    "            # ax.scatter(x_start, y_start, color=pass_completion_colors[pass_completion], zorder=3, alpha=0.6)\n",
    "            # ax.scatter(x_end, y_end, color=pass_completion_colors[pass_completion], zorder=3, alpha=0.6)\n",
    "            # Add text annotation for \"Passes Completed\" heading and count of passes completed\n",
    "            ax.text(0, 5, \"Passes Completed\", fontsize=12, color='black', weight='bold')\n",
    "            c=c+1\n",
    "\n",
    "ax.text(0, 0, f\"Count of Team Blue: {c}\", fontsize=10, color='black')\n",
    "\n",
    "plt.show()  # Show the plot\n"
   ]
  },
  {
   "cell_type": "code",
   "execution_count": 209,
   "metadata": {},
   "outputs": [
    {
     "data": {
      "image/png": "[encoded data removed]",
      "text/plain": [
       "<Figure size 640x480 with 1 Axes>"
      ]
     },
     "metadata": {},
     "output_type": "display_data"
    }
   ],
   "source": [
    "import matplotlib.pyplot as plt\n",
    "import pandas as pd\n",
    "from mplsoccer import Pitch\n",
    "\n",
    "# Assuming you have already created a plot named 'ax'\n",
    "pitch = Pitch(pitch_color='green', goal_type='box', goal_alpha=1)\n",
    "fig, ax = pitch.draw()\n",
    "\n",
    "# Assigning colors based on PassCompletion\n",
    "pass_completion_colors = {\n",
    "    \"no pass attempted\": \"blue\",\n",
    "    \"pass completed\": \"yellow\",\n",
    "    \"pass incomplete\": \"red\"\n",
    "}\n",
    "c=0\n",
    "# Iterate through the DataFrame to plot arrows between consecutive points\n",
    "for index, row in filtered_df.iterrows():\n",
    "    if row['PassCompletion'] == \"pass completed\":\n",
    "        if row['Team'] == 'Green':\n",
    "            x_start, y_start = row['Starting_Point']     # Starting point\n",
    "            x_end, y_end = row['Ending_Point']     # Ending point\n",
    "            pass_completion = row['PassCompletion']  # Pass completion status\n",
    "            # Plotting arrows and scatter points\n",
    "            y_start= y_start-over\n",
    "            y_end= y_end-over\n",
    "            ax.annotate(\"\", xy=(x_start, y_start), xytext=(x_end, y_end),\n",
    "                    arrowprops=dict(arrowstyle='->', color='blue'), alpha=0.5,\n",
    "                    bbox=dict(boxstyle='round,pad=0.3', fc='white', ec='black', lw=1))\n",
    "            # ax.arrow(x_start, y_start, x_end - x_start, y_end - y_start,\n",
    "            #          color=pass_completion_colors[pass_completion], alpha=0.3,\n",
    "            #          head_width=2, head_length=2, zorder=2)  # Adjust head width and length as needed\n",
    "            # ax.scatter(x_start, y_start, color=pass_completion_colors[pass_completion], zorder=3, alpha=0.6)\n",
    "            # ax.scatter(x_end, y_end, color=pass_completion_colors[pass_completion], zorder=3, alpha=0.6)\n",
    "            # Add text annotation for \"Passes Completed\" heading and count of passes completed\n",
    "            ax.text(0, 5, \"Passes Completed\", fontsize=12, color='black', weight='bold')\n",
    "            c=c+1\n",
    "\n",
    "ax.text(0, 0, f\"Count of Team Green: {c}\", fontsize=10, color='black')\n",
    "\n",
    "plt.show()  # Show the plot\n"
   ]
  },
  {
   "cell_type": "code",
   "execution_count": 175,
   "metadata": {},
   "outputs": [
    {
     "data": {
      "image/png": "[encoded data removed]",
      "text/plain": [
       "<Figure size 640x480 with 1 Axes>"
      ]
     },
     "metadata": {},
     "output_type": "display_data"
    }
   ],
   "source": [
    "import matplotlib.pyplot as plt\n",
    "import pandas as pd\n",
    "from mplsoccer import Pitch\n",
    "\n",
    "# Assuming you have already created a plot named 'ax'\n",
    "pitch = Pitch(pitch_color='green', goal_type='box', goal_alpha=1)\n",
    "fig, ax = pitch.draw()\n",
    "\n",
    "# Assigning c\n",
    "# olors based on PassCompletion\n",
    "pass_completion_colors = {\n",
    "    \"no pass attempted\": \"blue\",\n",
    "    \"pass completed\": \"yellow\",\n",
    "    \"pass incomplete\": \"red\"\n",
    "}\n",
    "c=0\n",
    "# Iterate through the DataFrame to plot arrows between consecutive points\n",
    "for index, row in df_fin.iterrows():\n",
    "    if row['Team'] == 'Green':\n",
    "        if row['PassCompletion'] == \"pass incomplete\":\n",
    "            x_start, y_start = row['Starting_Point']     # Starting point\n",
    "            x_end, y_end = row['Ending_Point']     # Ending point\n",
    "            pass_completion = row['PassCompletion']  # Pass completion status\n",
    "            y_start= y_start-over\n",
    "            y_end= y_end-over\n",
    "            # Plotting arrows and scatter points\n",
    "            ax.arrow(x_start, y_start, x_end - x_start, y_end - y_start,\n",
    "                    color=pass_completion_colors[pass_completion], alpha=1,\n",
    "                    head_width=2, head_length=2, zorder=0)  # Adjust head width and length as needed\n",
    "            ax.scatter(x_start, y_start, color=pass_completion_colors[pass_completion], zorder=1, alpha=0.1)\n",
    "            ax.scatter(x_end, y_end, color=pass_completion_colors[pass_completion], zorder=1, alpha=0.1)\n",
    "            # Add text annotation for \"Passes Completed\" heading and count of passes completed\n",
    "            ax.text(0, 5, \"Passes Incompleted\", fontsize=12, color='black', weight='bold')\n",
    "            c=c+1\n",
    "\n",
    "ax.text(0, 0, f\"Count of Team Green: {c}\", fontsize=10, color='black')\n",
    "\n",
    "plt.show()  # Show the plot\n"
   ]
  },
  {
   "cell_type": "code",
   "execution_count": 176,
   "metadata": {},
   "outputs": [
    {
     "data": {
      "image/png": "[encoded data removed]",
      "text/plain": [
       "<Figure size 640x480 with 1 Axes>"
      ]
     },
     "metadata": {},
     "output_type": "display_data"
    }
   ],
   "source": [
    "import matplotlib.pyplot as plt\n",
    "import pandas as pd\n",
    "from mplsoccer import Pitch\n",
    "\n",
    "# Assuming you have already created a plot named 'ax'\n",
    "pitch = Pitch(pitch_color='green', goal_type='box', goal_alpha=1)\n",
    "fig, ax = pitch.draw()\n",
    "\n",
    "# Assigning c\n",
    "# olors based on PassCompletion\n",
    "pass_completion_colors = {\n",
    "    \"no pass attempted\": \"blue\",\n",
    "    \"pass completed\": \"yellow\",\n",
    "    \"pass incomplete\": \"red\"\n",
    "}\n",
    "c=0\n",
    "# Iterate through the DataFrame to plot arrows between consecutive points\n",
    "for index, row in df_fin.iterrows():\n",
    "    if row['Team'] == 'Blue':\n",
    "        if row['PassCompletion'] == \"pass incomplete\":\n",
    "            x_start, y_start = row['Starting_Point']     # Starting point\n",
    "            x_end, y_end = row['Ending_Point']     # Ending point\n",
    "            pass_completion = row['PassCompletion']  # Pass completion status\n",
    "            y_start= y_start-over\n",
    "            y_end= y_end-over\n",
    "            # Plotting arrows and scatter points\n",
    "            ax.arrow(x_start, y_start, x_end - x_start, y_end - y_start,\n",
    "                    color=pass_completion_colors[pass_completion], alpha=1,\n",
    "                    head_width=2, head_length=2, zorder=0)  # Adjust head width and length as needed\n",
    "            ax.scatter(x_start, y_start, color=pass_completion_colors[pass_completion], zorder=1, alpha=0.1)\n",
    "            ax.scatter(x_end, y_end, color=pass_completion_colors[pass_completion], zorder=1, alpha=0.1)\n",
    "            # Add text annotation for \"Passes Completed\" heading and count of passes completed\n",
    "            ax.text(0, 5, \"Passes Incompleted\", fontsize=12, color='black', weight='bold')\n",
    "            c=c+1\n",
    "\n",
    "ax.text(0, 0, f\"Count of Team Blue: {c}\", fontsize=10, color='black')\n",
    "\n",
    "plt.show()  # Show the plot\n"
   ]
  },
  {
   "cell_type": "code",
   "execution_count": 6,
   "metadata": {},
   "outputs": [
    {
     "data": {
      "text/plain": [
       "<matplotlib.collections.PathCollection at 0x202abf8ff10>"
      ]
     },
     "execution_count": 6,
     "metadata": {},
     "output_type": "execute_result"
    },
    {
     "data": {
      "image/png": "[encoded data removed]",
      "text/plain": [
       "<Figure size 640x480 with 1 Axes>"
      ]
     },
     "metadata": {},
     "output_type": "display_data"
    }
   ],
   "source": [
    "# Assuming you have already created a plot named 'ax'\n",
    "from mplsoccer import Pitch\n",
    "pitch = Pitch(pitch_color='green', goal_type='box', goal_alpha=1, pitch_length=120, pitch_width=80)\n",
    "fig, ax = pitch.draw()\n",
    "(0, 18), (18, 18), (18, 62), (0, 62)\n",
    "# ax.scatter(42, 76, zorder=1, alpha=1, color='blue')\n",
    "# ax.scatter(14, 56, zorder=1, alpha=1, color='blue')\n",
    "ax.scatter(29, 46, zorder=1, alpha=1, color='yellow')\n",
    "ax.scatter(27, 57, zorder=1, alpha=1, color='red')\n",
    "# ax.scatter(6, 30, zorder=1, alpha=1, color='red')\n",
    "# ax.scatter(0, 30, zorder=1, alpha=1, color='red')\n",
    "\n",
    "# ax.scatter(15, 56, zorder=1, alpha=1, color='yellow')\n",
    "# ax.scatter(0, 45, zorder=1, alpha=1, color='blue')\n",
    "# ax.scatter(0, 35, zorder=1, alpha=1, color='blue')\n",
    "ax.scatter(114, 50, zorder=1, alpha=1, color='blue')\n",
    "ax.scatter(114, 30, zorder=1, alpha=1, color='blue')\n",
    "# ax.scatter(120, 40, zorder=1, alpha=1, color='blue')\n",
    "ax.scatter(120, 30, zorder=1, alpha=1, color='blue')\n",
    "ax.scatter(120, 35, zorder=1, alpha=1, color='blue')\n",
    "# ax.scatter(102, 18, zorder=1, alpha=1, color='RED')\n",
    "# ax.scatter(102, 40, zorder=1, alpha=1, color='RED')\n",
    "# ax.scatter(102, 62, zorder=1, alpha=1, color='RED')\n",
    "# ax.scatter(120, 18, zorder=1, alpha=1, color='RED')\n",
    "# ax.scatter(120, 40, zorder=1, alpha=1, color='RED')\n",
    "# ax.scatter(120, 62, zorder=1, alpha=1, color='RED')"
   ]
  },
  {
   "cell_type": "code",
   "execution_count": 130,
   "metadata": {},
   "outputs": [
    {
     "data": {
      "image/png": "[encoded data removed]",
      "text/plain": [
       "<Figure size 640x480 with 1 Axes>"
      ]
     },
     "metadata": {},
     "output_type": "display_data"
    }
   ],
   "source": [
    "import matplotlib.pyplot as plt\n",
    "import pandas as pd\n",
    "from mplsoccer import Pitch\n",
    "# Assuming you have already created a plot named 'ax'\n",
    "pitch = Pitch(pitch_color= 'green', goal_type='box', goal_alpha=1)\n",
    "fig, ax = pitch.draw()\n",
    "\n",
    "# Assigning colors based on PassCompletion\n",
    "pass_completion_colors = {\n",
    "    \"no pass attempted\": \"blue\",\n",
    "    \"pass completed\": \"green\",\n",
    "    \"pass incomplete\": \"red\"\n",
    "}\n",
    "c=0\n",
    "# Iterate through the DataFrame to plot arrows between consecutive points\n",
    "for index, row in df_fin.iterrows():\n",
    "    if row['Team'] == 'Blue':\n",
    "        if row['PassCompletion'] == \"no pass attempted\":\n",
    "            x_start, y_start = row['Starting_Point']     # Starting point\n",
    "            x_end, y_end = row['Ending_Point']     # Ending point\n",
    "            pass_completion = row['PassCompletion']  # Pass completion status\n",
    "            y_start= y_start-over\n",
    "            y_end= y_end-over\n",
    "            # Plotting arrows and scatter points\n",
    "            # ax.arrow(y_start, x_start, y_end - y_start, x_end - x_start, color=pass_completion_colors[pass_completion], alpha=1)\n",
    "            ax.scatter(x_start, y_start, color=pass_completion_colors[pass_completion], zorder=3)\n",
    "            # ax.scatter(y_end, x_end, color=pass_completion_colors[pass_completion], zorder=3)\n",
    "            ax.text(5, 75, \"No Passes Attempted\", fontsize=12, color='black', weight='bold')\n",
    "            c=c+1\n",
    "\n",
    "ax.text(5, 70, f\"Count: {c}\", fontsize=10, color='black')\n",
    "\n",
    "plt.show()  # Show the plot\n"
   ]
  }
 ],
 "metadata": {
  "kernelspec": {
   "display_name": "Python 3",
   "language": "python",
   "name": "python3"
  },
  "language_info": {
   "codemirror_mode": {
    "name": "ipython",
    "version": 3
   },
   "file_extension": ".py",
   "mimetype": "text/x-python",
   "name": "python",
   "nbconvert_exporter": "python",
   "pygments_lexer": "ipython3",
   "version": "3.10.11"
  }
 },
 "nbformat": 4,
 "nbformat_minor": 2
}
