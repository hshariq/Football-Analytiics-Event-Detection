{
 "cells": [
  {
   "cell_type": "code",
   "execution_count": 5,
   "metadata": {},
   "outputs": [
    {
     "name": "stderr",
     "output_type": "stream",
     "text": [
      "C:\\Users\\hamza\\AppData\\Local\\Temp\\ipykernel_21396\\4080736814.py:1: DeprecationWarning: \n",
      "Pyarrow will become a required dependency of pandas in the next major release of pandas (pandas 3.0),\n",
      "(to allow more performant data types, such as the Arrow string type, and better interoperability with other libraries)\n",
      "but was not found to be installed on your system.\n",
      "If this would cause problems for you,\n",
      "please provide us feedback at https://github.com/pandas-dev/pandas/issues/54466\n",
      "        \n",
      "  import pandas as pd\n"
     ]
    }
   ],
   "source": [
    "import pandas as pd"
   ]
  },
  {
   "cell_type": "code",
   "execution_count": 22,
   "metadata": {},
   "outputs": [],
   "source": [
    "df = pd.read_csv('players_blegium_japan.csv')\n",
    "#df = pd.read_csv('playersNball.csv')\n"
   ]
  },
  {
   "cell_type": "code",
   "execution_count": 23,
   "metadata": {},
   "outputs": [],
   "source": [
    "df_pressure=None"
   ]
  },
  {
   "cell_type": "code",
   "execution_count": 24,
   "metadata": {},
   "outputs": [],
   "source": [
    "df_pressure= pd.DataFrame(columns=['position_x','position_y', 'pressure_rating'])"
   ]
  },
  {
   "cell_type": "code",
   "execution_count": 25,
   "metadata": {},
   "outputs": [
    {
     "data": {
      "text/html": [
       "<div>\n",
       "<style scoped>\n",
       "    .dataframe tbody tr th:only-of-type {\n",
       "        vertical-align: middle;\n",
       "    }\n",
       "\n",
       "    .dataframe tbody tr th {\n",
       "        vertical-align: top;\n",
       "    }\n",
       "\n",
       "    .dataframe thead th {\n",
       "        text-align: right;\n",
       "    }\n",
       "</style>\n",
       "<table border=\"1\" class=\"dataframe\">\n",
       "  <thead>\n",
       "    <tr style=\"text-align: right;\">\n",
       "      <th></th>\n",
       "      <th>position_x</th>\n",
       "      <th>position_y</th>\n",
       "      <th>pressure_rating</th>\n",
       "    </tr>\n",
       "  </thead>\n",
       "  <tbody>\n",
       "  </tbody>\n",
       "</table>\n",
       "</div>"
      ],
      "text/plain": [
       "Empty DataFrame\n",
       "Columns: [position_x, position_y, pressure_rating]\n",
       "Index: []"
      ]
     },
     "execution_count": 25,
     "metadata": {},
     "output_type": "execute_result"
    }
   ],
   "source": [
    "df_pressure"
   ]
  },
  {
   "cell_type": "code",
   "execution_count": 27,
   "metadata": {},
   "outputs": [
    {
     "ename": "ValueError",
     "evalue": "Length of values (11) does not match length of index (9)",
     "output_type": "error",
     "traceback": [
      "\u001b[1;31m---------------------------------------------------------------------------\u001b[0m",
      "\u001b[1;31mValueError\u001b[0m                                Traceback (most recent call last)",
      "Cell \u001b[1;32mIn[27], line 30\u001b[0m\n\u001b[0;32m     27\u001b[0m             distances\u001b[38;5;241m.\u001b[39mappend(distance)\n\u001b[0;32m     29\u001b[0m         \u001b[38;5;66;03m# Update pressure rating for each event in the same frame\u001b[39;00m\n\u001b[1;32m---> 30\u001b[0m         \u001b[43mdf_pressure\u001b[49m\u001b[43m[\u001b[49m\u001b[38;5;124;43m'\u001b[39;49m\u001b[38;5;124;43mpressure_rating\u001b[39;49m\u001b[38;5;124;43m'\u001b[39;49m\u001b[43m]\u001b[49m \u001b[38;5;241m=\u001b[39m distances\n\u001b[0;32m     32\u001b[0m \u001b[38;5;28mprint\u001b[39m(df_pressure)\n",
      "File \u001b[1;32m~\\AppData\\Local\\Packages\\PythonSoftwareFoundation.Python.3.10_qbz5n2kfra8p0\\LocalCache\\local-packages\\Python310\\site-packages\\pandas\\core\\frame.py:4299\u001b[0m, in \u001b[0;36mDataFrame.__setitem__\u001b[1;34m(self, key, value)\u001b[0m\n\u001b[0;32m   4296\u001b[0m     \u001b[38;5;28mself\u001b[39m\u001b[38;5;241m.\u001b[39m_setitem_array([key], value)\n\u001b[0;32m   4297\u001b[0m \u001b[38;5;28;01melse\u001b[39;00m:\n\u001b[0;32m   4298\u001b[0m     \u001b[38;5;66;03m# set column\u001b[39;00m\n\u001b[1;32m-> 4299\u001b[0m     \u001b[38;5;28;43mself\u001b[39;49m\u001b[38;5;241;43m.\u001b[39;49m\u001b[43m_set_item\u001b[49m\u001b[43m(\u001b[49m\u001b[43mkey\u001b[49m\u001b[43m,\u001b[49m\u001b[43m \u001b[49m\u001b[43mvalue\u001b[49m\u001b[43m)\u001b[49m\n",
      "File \u001b[1;32m~\\AppData\\Local\\Packages\\PythonSoftwareFoundation.Python.3.10_qbz5n2kfra8p0\\LocalCache\\local-packages\\Python310\\site-packages\\pandas\\core\\frame.py:4512\u001b[0m, in \u001b[0;36mDataFrame._set_item\u001b[1;34m(self, key, value)\u001b[0m\n\u001b[0;32m   4502\u001b[0m \u001b[38;5;28;01mdef\u001b[39;00m \u001b[38;5;21m_set_item\u001b[39m(\u001b[38;5;28mself\u001b[39m, key, value) \u001b[38;5;241m-\u001b[39m\u001b[38;5;241m>\u001b[39m \u001b[38;5;28;01mNone\u001b[39;00m:\n\u001b[0;32m   4503\u001b[0m \u001b[38;5;250m    \u001b[39m\u001b[38;5;124;03m\"\"\"\u001b[39;00m\n\u001b[0;32m   4504\u001b[0m \u001b[38;5;124;03m    Add series to DataFrame in specified column.\u001b[39;00m\n\u001b[0;32m   4505\u001b[0m \n\u001b[1;32m   (...)\u001b[0m\n\u001b[0;32m   4510\u001b[0m \u001b[38;5;124;03m    ensure homogeneity.\u001b[39;00m\n\u001b[0;32m   4511\u001b[0m \u001b[38;5;124;03m    \"\"\"\u001b[39;00m\n\u001b[1;32m-> 4512\u001b[0m     value, refs \u001b[38;5;241m=\u001b[39m \u001b[38;5;28;43mself\u001b[39;49m\u001b[38;5;241;43m.\u001b[39;49m\u001b[43m_sanitize_column\u001b[49m\u001b[43m(\u001b[49m\u001b[43mvalue\u001b[49m\u001b[43m)\u001b[49m\n\u001b[0;32m   4514\u001b[0m     \u001b[38;5;28;01mif\u001b[39;00m (\n\u001b[0;32m   4515\u001b[0m         key \u001b[38;5;129;01min\u001b[39;00m \u001b[38;5;28mself\u001b[39m\u001b[38;5;241m.\u001b[39mcolumns\n\u001b[0;32m   4516\u001b[0m         \u001b[38;5;129;01mand\u001b[39;00m value\u001b[38;5;241m.\u001b[39mndim \u001b[38;5;241m==\u001b[39m \u001b[38;5;241m1\u001b[39m\n\u001b[0;32m   4517\u001b[0m         \u001b[38;5;129;01mand\u001b[39;00m \u001b[38;5;129;01mnot\u001b[39;00m \u001b[38;5;28misinstance\u001b[39m(value\u001b[38;5;241m.\u001b[39mdtype, ExtensionDtype)\n\u001b[0;32m   4518\u001b[0m     ):\n\u001b[0;32m   4519\u001b[0m         \u001b[38;5;66;03m# broadcast across multiple columns if necessary\u001b[39;00m\n\u001b[0;32m   4520\u001b[0m         \u001b[38;5;28;01mif\u001b[39;00m \u001b[38;5;129;01mnot\u001b[39;00m \u001b[38;5;28mself\u001b[39m\u001b[38;5;241m.\u001b[39mcolumns\u001b[38;5;241m.\u001b[39mis_unique \u001b[38;5;129;01mor\u001b[39;00m \u001b[38;5;28misinstance\u001b[39m(\u001b[38;5;28mself\u001b[39m\u001b[38;5;241m.\u001b[39mcolumns, MultiIndex):\n",
      "File \u001b[1;32m~\\AppData\\Local\\Packages\\PythonSoftwareFoundation.Python.3.10_qbz5n2kfra8p0\\LocalCache\\local-packages\\Python310\\site-packages\\pandas\\core\\frame.py:5253\u001b[0m, in \u001b[0;36mDataFrame._sanitize_column\u001b[1;34m(self, value)\u001b[0m\n\u001b[0;32m   5250\u001b[0m     \u001b[38;5;28;01mreturn\u001b[39;00m _reindex_for_setitem(value, \u001b[38;5;28mself\u001b[39m\u001b[38;5;241m.\u001b[39mindex)\n\u001b[0;32m   5252\u001b[0m \u001b[38;5;28;01mif\u001b[39;00m is_list_like(value):\n\u001b[1;32m-> 5253\u001b[0m     \u001b[43mcom\u001b[49m\u001b[38;5;241;43m.\u001b[39;49m\u001b[43mrequire_length_match\u001b[49m\u001b[43m(\u001b[49m\u001b[43mvalue\u001b[49m\u001b[43m,\u001b[49m\u001b[43m \u001b[49m\u001b[38;5;28;43mself\u001b[39;49m\u001b[38;5;241;43m.\u001b[39;49m\u001b[43mindex\u001b[49m\u001b[43m)\u001b[49m\n\u001b[0;32m   5254\u001b[0m arr \u001b[38;5;241m=\u001b[39m sanitize_array(value, \u001b[38;5;28mself\u001b[39m\u001b[38;5;241m.\u001b[39mindex, copy\u001b[38;5;241m=\u001b[39m\u001b[38;5;28;01mTrue\u001b[39;00m, allow_2d\u001b[38;5;241m=\u001b[39m\u001b[38;5;28;01mTrue\u001b[39;00m)\n\u001b[0;32m   5255\u001b[0m \u001b[38;5;28;01mif\u001b[39;00m (\n\u001b[0;32m   5256\u001b[0m     \u001b[38;5;28misinstance\u001b[39m(value, Index)\n\u001b[0;32m   5257\u001b[0m     \u001b[38;5;129;01mand\u001b[39;00m value\u001b[38;5;241m.\u001b[39mdtype \u001b[38;5;241m==\u001b[39m \u001b[38;5;124m\"\u001b[39m\u001b[38;5;124mobject\u001b[39m\u001b[38;5;124m\"\u001b[39m\n\u001b[1;32m   (...)\u001b[0m\n\u001b[0;32m   5260\u001b[0m     \u001b[38;5;66;03m# TODO: Remove kludge in sanitize_array for string mode when enforcing\u001b[39;00m\n\u001b[0;32m   5261\u001b[0m     \u001b[38;5;66;03m# this deprecation\u001b[39;00m\n",
      "File \u001b[1;32m~\\AppData\\Local\\Packages\\PythonSoftwareFoundation.Python.3.10_qbz5n2kfra8p0\\LocalCache\\local-packages\\Python310\\site-packages\\pandas\\core\\common.py:571\u001b[0m, in \u001b[0;36mrequire_length_match\u001b[1;34m(data, index)\u001b[0m\n\u001b[0;32m    567\u001b[0m \u001b[38;5;250m\u001b[39m\u001b[38;5;124;03m\"\"\"\u001b[39;00m\n\u001b[0;32m    568\u001b[0m \u001b[38;5;124;03mCheck the length of data matches the length of the index.\u001b[39;00m\n\u001b[0;32m    569\u001b[0m \u001b[38;5;124;03m\"\"\"\u001b[39;00m\n\u001b[0;32m    570\u001b[0m \u001b[38;5;28;01mif\u001b[39;00m \u001b[38;5;28mlen\u001b[39m(data) \u001b[38;5;241m!=\u001b[39m \u001b[38;5;28mlen\u001b[39m(index):\n\u001b[1;32m--> 571\u001b[0m     \u001b[38;5;28;01mraise\u001b[39;00m \u001b[38;5;167;01mValueError\u001b[39;00m(\n\u001b[0;32m    572\u001b[0m         \u001b[38;5;124m\"\u001b[39m\u001b[38;5;124mLength of values \u001b[39m\u001b[38;5;124m\"\u001b[39m\n\u001b[0;32m    573\u001b[0m         \u001b[38;5;124mf\u001b[39m\u001b[38;5;124m\"\u001b[39m\u001b[38;5;124m(\u001b[39m\u001b[38;5;132;01m{\u001b[39;00m\u001b[38;5;28mlen\u001b[39m(data)\u001b[38;5;132;01m}\u001b[39;00m\u001b[38;5;124m) \u001b[39m\u001b[38;5;124m\"\u001b[39m\n\u001b[0;32m    574\u001b[0m         \u001b[38;5;124m\"\u001b[39m\u001b[38;5;124mdoes not match length of index \u001b[39m\u001b[38;5;124m\"\u001b[39m\n\u001b[0;32m    575\u001b[0m         \u001b[38;5;124mf\u001b[39m\u001b[38;5;124m\"\u001b[39m\u001b[38;5;124m(\u001b[39m\u001b[38;5;132;01m{\u001b[39;00m\u001b[38;5;28mlen\u001b[39m(index)\u001b[38;5;132;01m}\u001b[39;00m\u001b[38;5;124m)\u001b[39m\u001b[38;5;124m\"\u001b[39m\n\u001b[0;32m    576\u001b[0m     )\n",
      "\u001b[1;31mValueError\u001b[0m: Length of values (11) does not match length of index (9)"
     ]
    }
   ],
   "source": [
    "import numpy as np\n",
    "\n",
    "points=[]\n",
    "# Function to calculate Euclidean distance between two points\n",
    "def euclidean_distance(point1, point2):\n",
    "    return np.sqrt((point1[0] - point2[0]) ** 2 + (point1[1] - point2[1]) ** 2)\n",
    "\n",
    "# Initialize pressure rating column\n",
    "df_pressure['pressure_rating'] = 0\n",
    "\n",
    "# Iterate over each row in the DataFrame\n",
    "for index, row in df.iterrows():\n",
    "    # if index ==94:\n",
    "    #     break\n",
    "    if row['ball_posession'] == 1:\n",
    "        # Get the x, y coordinates of the ball possession event\n",
    "        ball_pos_x = row['x']\n",
    "        ball_pos_y = row['y']\n",
    "        frame = row['frame']\n",
    "        points.append((ball_pos_x, ball_pos_y))\n",
    "        # Calculate distances from the ball possession event to all other events in the same frame\n",
    "        distances = []\n",
    "        for _, event_row in df[(df['frame'] == frame) & (df['ball_posession'] == 0)].iterrows():\n",
    "            event_x = event_row['x']\n",
    "            event_y = event_row['y']\n",
    "            distance = euclidean_distance((ball_pos_x, ball_pos_y), (event_x, event_y))\n",
    "            distances.append(distance)\n",
    "        \n",
    "        # Update pressure rating for each event in the same frame\n",
    "        df_pressure['pressure_rating'] = distances\n",
    "\n",
    "print(df_pressure)"
   ]
  },
  {
   "cell_type": "code",
   "execution_count": null,
   "metadata": {},
   "outputs": [
    {
     "name": "stdout",
     "output_type": "stream",
     "text": [
      "130\n",
      "     Starting_Point  Ending_Point\n",
      "0                96            70\n",
      "1               100            68\n",
      "2               100            68\n",
      "3                99            68\n",
      "4                92            62\n",
      "..              ...           ...\n",
      "242              92            48\n",
      "243              92            48\n",
      "244              93            47\n",
      "245              80            48\n",
      "246              98            37\n",
      "\n",
      "[247 rows x 2 columns]\n"
     ]
    }
   ],
   "source": [
    "import numpy as np\n",
    "\n",
    "xpoints=[]\n",
    "ypoints=[]\n",
    "pRating=[]\n",
    "# Function to calculate Euclidean distance between two points\n",
    "def euclidean_distance(point1, point2):\n",
    "    return np.sqrt((point1[0] - point2[0]) ** 2 + (point1[1] - point2[1]) ** 2)\n",
    "\n",
    "# Radius for pressure calculation\n",
    "radius = 5\n",
    "\n",
    "# Initialize pressure rating column\n",
    "df['pressure_rating'] = 0\n",
    "\n",
    "# Iterate over each row in the DataFrame\n",
    "for index, row in df.iterrows():\n",
    "    if row['ball_posession'] == 1:\n",
    "        # Get the x, y coordinates of the ball possession event\n",
    "        ball_pos_x = row['x']\n",
    "        ball_pos_y = row['y']\n",
    "        frame = row['frame']\n",
    "        # Calculate distances from the ball possession event to all other events in the same frame\n",
    "        distances = []\n",
    "        for _, event_row in df[(df['frame'] == frame) & (df['ball_posession'] == 0)].iterrows():\n",
    "            event_x = event_row['x']\n",
    "            event_y = event_row['y']\n",
    "            distance = euclidean_distance((ball_pos_x, ball_pos_y), (event_x, event_y))\n",
    "            # Calculate pressure rating considering the radius\n",
    "            if distance <= radius:\n",
    "                # Check if the event belongs to the opposite team\n",
    "                if event_row['teamId'] != row['teamId']:\n",
    "                    pressure = max(0, radius - distance)  # Subtract distance from radius\n",
    "                    if distance == 5: \n",
    "                        pressure = 0.3\n",
    "                    distances.append(pressure)\n",
    "        \n",
    "        # Update pressure rating for each event in the same frame\n",
    "        if distances:\n",
    "            avg_pressure = sum(distances) / len(distances)  # Average pressure if multiple players detected\n",
    "            pRating.append(avg_pressure)\n",
    "        xpoints.append(ball_pos_x)\n",
    "        ypoints.append(ball_pos_y)\n",
    "        \n",
    "print(len(pRating))\n",
    "# Create DataFrame\n",
    "df_pressure = pd.DataFrame({\n",
    "    \"Starting_Point\": xpoints,\n",
    "    \"Ending_Point\": ypoints,\n",
    "    # \"PassCompletion\":pRating\n",
    "})\n",
    "\n",
    "print(df_pressure)"
   ]
  },
  {
   "cell_type": "code",
   "execution_count": null,
   "metadata": {},
   "outputs": [
    {
     "ename": "NameError",
     "evalue": "name 'df' is not defined",
     "output_type": "error",
     "traceback": [
      "\u001b[1;31m---------------------------------------------------------------------------\u001b[0m",
      "\u001b[1;31mNameError\u001b[0m                                 Traceback (most recent call last)",
      "Cell \u001b[1;32mIn[2], line 16\u001b[0m\n\u001b[0;32m     13\u001b[0m ypoints \u001b[38;5;241m=\u001b[39m []\n\u001b[0;32m     15\u001b[0m \u001b[38;5;66;03m# Iterate over each row in the DataFrame\u001b[39;00m\n\u001b[1;32m---> 16\u001b[0m \u001b[38;5;28;01mfor\u001b[39;00m index, row \u001b[38;5;129;01min\u001b[39;00m \u001b[43mdf\u001b[49m\u001b[38;5;241m.\u001b[39miterrows():\n\u001b[0;32m     17\u001b[0m     \u001b[38;5;28;01mif\u001b[39;00m row[\u001b[38;5;124m'\u001b[39m\u001b[38;5;124mteamId\u001b[39m\u001b[38;5;124m'\u001b[39m]\u001b[38;5;241m!=\u001b[39m \u001b[38;5;124m'\u001b[39m\u001b[38;5;124mGreen\u001b[39m\u001b[38;5;124m'\u001b[39m:\n\u001b[0;32m     18\u001b[0m         \u001b[38;5;28;01mif\u001b[39;00m index \u001b[38;5;241m==\u001b[39m \u001b[38;5;241m74\u001b[39m:\n",
      "\u001b[1;31mNameError\u001b[0m: name 'df' is not defined"
     ]
    }
   ],
   "source": [
    "# Function to calculate Euclidean distance between two points\n",
    "def euclidean_distance(point1, point2):\n",
    "    return np.sqrt((point1[0] - point2[0]) ** 2 + (point1[1] - point2[1]) ** 2)\n",
    "\n",
    "# Radius for pressure calculation\n",
    "radius = 5\n",
    "\n",
    "# Initialize pressure list\n",
    "pressure = []\n",
    "\n",
    "# Initialize lists to store x and y points\n",
    "xpoints = []\n",
    "ypoints = []\n",
    "\n",
    "# Iterate over each row in the DataFrame\n",
    "for index, row in df.iterrows():\n",
    "    if row['teamId']!= 'Green':\n",
    "        if index == 74:\n",
    "            break\n",
    "        if row['ball_posession'] == 1:\n",
    "            # Get the x, y coordinates of the ball possession event\n",
    "            ball_pos_x = row['x']\n",
    "            ball_pos_y = row['y']\n",
    "            frame = row['frame']\n",
    "            \n",
    "            # Append x and y points\n",
    "            xpoints.append(ball_pos_x)\n",
    "            ypoints.append(ball_pos_y)\n",
    "            \n",
    "            # Calculate distances from the ball possession event to all other events in the same frame\n",
    "            distances = []\n",
    "            for _, event_row in df[(df['frame'] == frame) & (df['ball_posession'] == 0)].iterrows():\n",
    "                if event_row['teamId'] != 'Green':\n",
    "                    event_x = event_row['x']\n",
    "                    event_y = event_row['y']\n",
    "                    distance = euclidean_distance((ball_pos_x, ball_pos_y), (event_x, event_y))\n",
    "                    # Calculate pressure rating considering the radius\n",
    "                    if distance <= radius:\n",
    "                        # Check if the event belongs to the opposite team\n",
    "                        if event_row['teamId'] != row['teamId']:\n",
    "                            pressure.append(max(0, radius - distance))  # Subtract distance from radius and append to pressure list\n",
    "                            # print(\"jere:\", pressure)\n",
    "            \n",
    "            # Update pressure rating for each event in the same frame\n",
    "            if pressure:\n",
    "                avg_pressure = sum(pressure) / len(pressure)  # Average pressure if multiple players detected\n",
    "                df.loc[(df['frame'] == frame) & (df['ball_posession'] == 0), 'pressure_rating'] = avg_pressure\n",
    "                print(avg_pressure)\n",
    "\n",
    "# Create DataFrame df_pressure\n",
    "df_pressure = pd.DataFrame({\n",
    "    \"x_Point\": xpoints,\n",
    "    \"y_Point\": ypoints,\n",
    "    # \"PressureRating\": pressure  # Use the pressure list\n",
    "})\n",
    "\n",
    "# len(p)\n",
    "print(df_pressure)"
   ]
  },
  {
   "cell_type": "code",
   "execution_count": null,
   "metadata": {},
   "outputs": [
    {
     "ename": "NameError",
     "evalue": "name 'df' is not defined",
     "output_type": "error",
     "traceback": [
      "\u001b[1;31m---------------------------------------------------------------------------\u001b[0m",
      "\u001b[1;31mNameError\u001b[0m                                 Traceback (most recent call last)",
      "Cell \u001b[1;32mIn[3], line 14\u001b[0m\n\u001b[0;32m     12\u001b[0m p\u001b[38;5;241m=\u001b[39m[]\n\u001b[0;32m     13\u001b[0m \u001b[38;5;66;03m# Iterate over each row in the DataFrame\u001b[39;00m\n\u001b[1;32m---> 14\u001b[0m \u001b[38;5;28;01mfor\u001b[39;00m index, row \u001b[38;5;129;01min\u001b[39;00m \u001b[43mdf\u001b[49m\u001b[38;5;241m.\u001b[39miterrows():\n\u001b[0;32m     15\u001b[0m     \u001b[38;5;28;01mif\u001b[39;00m index \u001b[38;5;241m==\u001b[39m \u001b[38;5;241m63\u001b[39m:\n\u001b[0;32m     16\u001b[0m             \u001b[38;5;28;01mbreak\u001b[39;00m\n",
      "\u001b[1;31mNameError\u001b[0m: name 'df' is not defined"
     ]
    }
   ],
   "source": [
    "# Function to calculate Euclidean distance between two points\n",
    "def euclidean_distance(point1, point2):\n",
    "    return np.sqrt((point1[0] - point2[0]) ** 2 + (point1[1] - point2[1]) ** 2)\n",
    "\n",
    "# Radius for pressure calculation\n",
    "radius = 5\n",
    "\n",
    "# Initialize lists to store x and y points\n",
    "xpoints = []\n",
    "ypoints = []\n",
    "pressures = []\n",
    "p=[]\n",
    "# Iterate over each row in the DataFrame\n",
    "for index, row in df.iterrows():\n",
    "    if index == 63:\n",
    "            break\n",
    "    if row['ball_posession'] == 1:\n",
    "        # Get the x, y coordinates of the ball possession event\n",
    "        ball_pos_x = row['x']\n",
    "        ball_pos_y = row['y']\n",
    "        frame = row['frame']\n",
    "        \n",
    "        # Append x and y points\n",
    "        xpoints.append(ball_pos_x)\n",
    "        ypoints.append(ball_pos_y)\n",
    "        \n",
    "        # Calculate distances from the ball possession event to all other events in the same frame\n",
    "        distances = []\n",
    "        for _, event_row in df[(df['frame'] == frame) & (df['ball_posession'] == 0)].iterrows():\n",
    "            event_x = event_row['x']\n",
    "            event_y = event_row['y']\n",
    "            distance = euclidean_distance((ball_pos_x, ball_pos_y), (event_x, event_y))\n",
    "            \n",
    "            # Calculate pressure rating considering the radius\n",
    "            if distance <= radius:\n",
    "                # Check if the event belongs to the opposite team\n",
    "                if event_row['teamId'] != row['teamId']:\n",
    "                    pressures.append(max(0, radius - distance))  # Subtract distance from radius and append to pressures list\n",
    "        \n",
    "        # Calculate the average pressure rating for the frame\n",
    "        if pressures:\n",
    "            avg_pressure = sum(pressures) / len(pressures)  # Average pressure if multiple players detected\n",
    "            p.append(avg_pressure)  # Append average pressure to pressures list\n",
    "\n",
    "\n",
    "print(pressures)\n",
    "# Create DataFrame df_pressure\n",
    "df_pressure = pd.DataFrame({\n",
    "    \"x_Point\": xpoints,\n",
    "    \"y_Point\": ypoints,\n",
    "    # \"PressureRating\": pressures  # Use the pressures list\n",
    "})\n",
    "\n",
    "print(df_pressure)"
   ]
  },
  {
   "cell_type": "code",
   "execution_count": null,
   "metadata": {},
   "outputs": [
    {
     "ename": "NameError",
     "evalue": "name 'df' is not defined",
     "output_type": "error",
     "traceback": [
      "\u001b[1;31m---------------------------------------------------------------------------\u001b[0m",
      "\u001b[1;31mNameError\u001b[0m                                 Traceback (most recent call last)",
      "Cell \u001b[1;32mIn[4], line 15\u001b[0m\n\u001b[0;32m     12\u001b[0m p\u001b[38;5;241m=\u001b[39m[]\n\u001b[0;32m     14\u001b[0m \u001b[38;5;66;03m# Iterate over each row in the DataFrame\u001b[39;00m\n\u001b[1;32m---> 15\u001b[0m \u001b[38;5;28;01mfor\u001b[39;00m index, row \u001b[38;5;129;01min\u001b[39;00m \u001b[43mdf\u001b[49m\u001b[38;5;241m.\u001b[39miterrows():\n\u001b[0;32m     16\u001b[0m     \u001b[38;5;28;01mif\u001b[39;00m row[\u001b[38;5;124m'\u001b[39m\u001b[38;5;124mball_posession\u001b[39m\u001b[38;5;124m'\u001b[39m] \u001b[38;5;241m==\u001b[39m \u001b[38;5;241m1\u001b[39m:\n\u001b[0;32m     17\u001b[0m         \u001b[38;5;66;03m# Reset the pressures list for each ball possession event\u001b[39;00m\n\u001b[0;32m     18\u001b[0m         pressures \u001b[38;5;241m=\u001b[39m []\n",
      "\u001b[1;31mNameError\u001b[0m: name 'df' is not defined"
     ]
    }
   ],
   "source": [
    "# Function to calculate Euclidean distance between two points\n",
    "def euclidean_distance(point1, point2):\n",
    "    return np.sqrt((point1[0] - point2[0]) ** 2 + (point1[1] - point2[1]) ** 2)\n",
    "\n",
    "# Radius for pressure calculation\n",
    "radius = 5\n",
    "\n",
    "# Initialize lists to store x and y points\n",
    "xpoints = []\n",
    "ypoints = []\n",
    "pressures = []\n",
    "p=[]\n",
    "\n",
    "# Iterate over each row in the DataFrame\n",
    "for index, row in df.iterrows():\n",
    "    if row['ball_posession'] == 1:\n",
    "        # Reset the pressures list for each ball possession event\n",
    "        pressures = []\n",
    "        \n",
    "        # Get the x, y coordinates of the ball possession event\n",
    "        ball_pos_x = row['x']\n",
    "        ball_pos_y = row['y']\n",
    "        frame = row['frame']\n",
    "        \n",
    "        # Append x and y points\n",
    "        xpoints.append(ball_pos_x)\n",
    "        ypoints.append(ball_pos_y)\n",
    "        \n",
    "        # Calculate distances from the ball possession event to all other events in the same frame\n",
    "        distances = []\n",
    "        for _, event_row in df[(df['frame'] == frame) & (df['ball_posession'] == 0)].iterrows():\n",
    "            event_x = event_row['x']\n",
    "            event_y = event_row['y']\n",
    "            distance = euclidean_distance((ball_pos_x, ball_pos_y), (event_x, event_y))\n",
    "            \n",
    "            # Calculate pressure rating considering the radius\n",
    "            if distance <= radius:\n",
    "                # Check if the event belongs to the opposite team\n",
    "                if event_row['teamId'] != row['teamId']:\n",
    "                    pressures.append(max(0, radius - distance))  # Subtract distance from radius and append to pressures list\n",
    "        \n",
    "        # Calculate the average pressure rating for the frame\n",
    "        if pressures:\n",
    "            avg_pressure = sum(pressures) / len(pressures)  # Average pressure if multiple players detected\n",
    "            p.append(avg_pressure)  # Append average pressure to pressures list\n",
    "        else: \n",
    "            p.append(0)\n",
    "\n",
    "# Create DataFrame df_pressure\n",
    "df_pressure = pd.DataFrame({\n",
    "    \"x_Point\": xpoints,\n",
    "    \"y_Point\": ypoints,\n",
    "    \"PressureRating\": p  # Use the pressures list\n",
    "})\n",
    "print(df_pressure)"
   ]
  },
  {
   "cell_type": "code",
   "execution_count": null,
   "metadata": {},
   "outputs": [],
   "source": [
    "#do tosql df_pressure"
   ]
  },
  {
   "cell_type": "code",
   "execution_count": null,
   "metadata": {},
   "outputs": [
    {
     "name": "stdout",
     "output_type": "stream",
     "text": [
      "4.0\n"
     ]
    }
   ],
   "source": [
    "#maximum pressure rating\n",
    "max_pressure = df_pressure['PressureRating'].max()\n",
    "print(max_pressure)"
   ]
  },
  {
   "cell_type": "code",
   "execution_count": null,
   "metadata": {},
   "outputs": [
    {
     "data": {
      "image/png": "[encoded data removed]",
      "text/plain": [
       "<Figure size 640x480 with 1 Axes>"
      ]
     },
     "metadata": {},
     "output_type": "display_data"
    }
   ],
   "source": [
    "import matplotlib.pyplot as plt\n",
    "import numpy as np\n",
    "import pandas as pd\n",
    "from scipy.ndimage import gaussian_filter\n",
    "\n",
    "from mplsoccer import Pitch\n",
    "\n",
    "pitch = Pitch(line_zorder=2)\n",
    "fig, ax = pitch.draw()\n",
    "\n",
    "# Calculate the bin statistic with weights based on pressure rating\n",
    "bin_statistic = pitch.bin_statistic(\n",
    "    df_pressure['x_Point'], df_pressure['y_Point'], df_pressure['PressureRating'], bins=(10, 5)\n",
    ")\n",
    "\n",
    "# Gaussian smoothing of the bin statistic\n",
    "bin_statistic['statistic'] = gaussian_filter(bin_statistic['statistic'], sigma=1)\n",
    "\n",
    "# Plot the smoothed heatmap\n",
    "heatmap = pitch.heatmap(bin_statistic, ax=ax, cmap='Reds', edgecolor='#f9f9f9', alpha=0.5)\n",
    "ax.text(45, 0, \"Pressure Rating\", fontsize=12, color='black', weight='bold')\n",
    "\n",
    "plt.show()\n"
   ]
  },
  {
   "cell_type": "code",
   "execution_count": null,
   "metadata": {},
   "outputs": [],
   "source": []
  }
 ],
 "metadata": {
  "kernelspec": {
   "display_name": "Python 3",
   "language": "python",
   "name": "python3"
  },
  "language_info": {
   "codemirror_mode": {
    "name": "ipython",
    "version": 3
   },
   "file_extension": ".py",
   "mimetype": "text/x-python",
   "name": "python",
   "nbconvert_exporter": "python",
   "pygments_lexer": "ipython3",
   "version": "3.10.11"
  }
 },
 "nbformat": 4,
 "nbformat_minor": 2
}
