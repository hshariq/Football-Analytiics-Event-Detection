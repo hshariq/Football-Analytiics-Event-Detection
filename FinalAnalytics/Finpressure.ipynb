{
 "cells": [
  {
   "cell_type": "code",
   "execution_count": 1,
   "metadata": {},
   "outputs": [
    {
     "name": "stderr",
     "output_type": "stream",
     "text": [
      "C:\\Users\\hamza\\AppData\\Local\\Temp\\ipykernel_20368\\4080736814.py:1: DeprecationWarning: \n",
      "Pyarrow will become a required dependency of pandas in the next major release of pandas (pandas 3.0),\n",
      "(to allow more performant data types, such as the Arrow string type, and better interoperability with other libraries)\n",
      "but was not found to be installed on your system.\n",
      "If this would cause problems for you,\n",
      "please provide us feedback at https://github.com/pandas-dev/pandas/issues/54466\n",
      "        \n",
      "  import pandas as pd\n"
     ]
    }
   ],
   "source": [
    "import pandas as pd"
   ]
  },
  {
   "cell_type": "code",
   "execution_count": 2,
   "metadata": {},
   "outputs": [],
   "source": [
    "# df = pd.read_csv('players_blegium_japan.csv')\n",
    "# df = pd.read_csv('timestampplayers.csv')\n",
    "df = pd.read_csv('Data/playersNball.csv')\n"
   ]
  },
  {
   "cell_type": "code",
   "execution_count": 3,
   "metadata": {},
   "outputs": [],
   "source": [
    "df_pressure= pd.DataFrame(columns=['position_x','position_y', 'pressure_rating'])"
   ]
  },
  {
   "cell_type": "code",
   "execution_count": 4,
   "metadata": {},
   "outputs": [],
   "source": [
    "import numpy as np"
   ]
  },
  {
   "cell_type": "code",
   "execution_count": 5,
   "metadata": {},
   "outputs": [
    {
     "name": "stdout",
     "output_type": "stream",
     "text": [
      "     x_Point  y_Point  PressureRating  Team  TimeStamp\n",
      "0         30       81               4   Red       0.00\n",
      "1         30       80               5   Red       0.00\n",
      "2         29       80               4   Red       0.03\n",
      "3         29       80               4   Red       0.05\n",
      "4         29       79               0  Blue       0.07\n",
      "..       ...      ...             ...   ...        ...\n",
      "716       33       41               0  Blue      21.81\n",
      "717       33       41               0  Blue      21.89\n",
      "718       30       46               0  Blue      22.32\n",
      "719       29       46               4  Blue      22.51\n",
      "720       29       45               0  Blue      22.52\n",
      "\n",
      "[721 rows x 5 columns]\n"
     ]
    }
   ],
   "source": [
    "# Function to calculate Euclidean distance between two points\n",
    "def euclidean_distance(point1, point2):\n",
    "    return np.sqrt((point1[0] - point2[0]) ** 2 + (point1[1] - point2[1]) ** 2)\n",
    "\n",
    "# Radius for pressure calculation\n",
    "radius = 5\n",
    "\n",
    "# Initialize lists to store x and y points\n",
    "xpoints = []\n",
    "ypoints = []\n",
    "pressures = []\n",
    "p=[]\n",
    "ts=[]\n",
    "team=[]\n",
    "c=0\n",
    "# Iterate over each row in the DataFrame\n",
    "for index, row in df.iterrows():\n",
    "    if row['ball_posession'] == 1:\n",
    "        # Reset the pressures list for each ball possession event\n",
    "        pressures = []\n",
    "        \n",
    "        # Get the x, y coordinates of the ball possession event\n",
    "        ball_pos_x = row['x']\n",
    "        ball_pos_y = row['y']\n",
    "        frame = row['frame']\n",
    "        \n",
    "        # Append x and y points\n",
    "        xpoints.append(ball_pos_x)\n",
    "        ypoints.append(ball_pos_y)\n",
    "        team.append(row['teamId'])\n",
    "        ts.append(row['timestamp'])\n",
    "        # Calculate distances from the ball possession event to all other events in the same frame\n",
    "        distances = []\n",
    "        for _, event_row in df[(df['frame'] == frame) & (df['ball_posession'] == 0)].iterrows():\n",
    "            event_x = event_row['x']\n",
    "            event_y = event_row['y']\n",
    "            distance = euclidean_distance((ball_pos_x, ball_pos_y), (event_x, event_y))\n",
    "            \n",
    "            # Calculate pressure rating considering the radius\n",
    "            if distance <= radius:\n",
    "                # Check if the event belongs to the opposite team\n",
    "                if event_row['teamId'] != row['teamId']:\n",
    "                    if distance == 5: \n",
    "                        pressures.append(0.3)\n",
    "                    elif distance<5:\n",
    "                        pressures.append(max(0, radius - distance))  # Subtract distance from radius and append to pressures list\n",
    "                    \n",
    "        \n",
    "        # Calculate the average pressure rating for the frame\n",
    "        if pressures:\n",
    "            avg_pressure = max(pressures) # Average pressure if multiple players detected\n",
    "            p.append(round(avg_pressure))  # Append average pressure to pressures list\n",
    "        else: \n",
    "            p.append(0)\n",
    "\n",
    "# Create DataFrame df_pressure\n",
    "df_pressure = pd.DataFrame({\n",
    "    \"x_Point\": xpoints,\n",
    "    \"y_Point\": ypoints,\n",
    "    \"PressureRating\": p,  # Use the pressures list\n",
    "    \"Team\": team,\n",
    "    \"TimeStamp\": ts\n",
    "})\n",
    "print(df_pressure)\n",
    "#  if pressures:\n",
    "#             if len(pressures)<3:\n",
    "#                 avg_pressure = (sum(pressures) / len(pressures))  # Average pressure if multiple players detected\n",
    "#                 p.append(avg_pressure)  # Append average pressure to pressures list\n",
    "#             else:\n",
    "#                 p.append(max(pressures))\n",
    "#         else: \n",
    "#             p.append(0)\n"
   ]
  },
  {
   "cell_type": "code",
   "execution_count": 6,
   "metadata": {},
   "outputs": [],
   "source": [
    "#find maxium ycoordinate in both starting and ending point in df_fin\n",
    "max_y = df_pressure['y_Point'].max()\n",
    "max_y\n",
    "over= max_y-80"
   ]
  },
  {
   "cell_type": "code",
   "execution_count": 7,
   "metadata": {},
   "outputs": [],
   "source": [
    "df_pressure['y_Point'] = df_pressure['y_Point']-over"
   ]
  },
  {
   "cell_type": "code",
   "execution_count": 8,
   "metadata": {},
   "outputs": [],
   "source": [
    "df_pressure.to_csv('pres.csv', index=False) "
   ]
  },
  {
   "cell_type": "code",
   "execution_count": 9,
   "metadata": {},
   "outputs": [
    {
     "data": {
      "text/plain": [
       "Team\n",
       "Blue    474\n",
       "Red     247\n",
       "Name: count, dtype: int64"
      ]
     },
     "execution_count": 9,
     "metadata": {},
     "output_type": "execute_result"
    }
   ],
   "source": [
    "df_pressure['Team'].value_counts()"
   ]
  },
  {
   "cell_type": "code",
   "execution_count": 10,
   "metadata": {},
   "outputs": [
    {
     "name": "stdout",
     "output_type": "stream",
     "text": [
      "0\n"
     ]
    }
   ],
   "source": [
    "#maximum pressure rating\n",
    "max_pressure = df_pressure['PressureRating'].min()\n",
    "print(max_pressure)"
   ]
  },
  {
   "cell_type": "code",
   "execution_count": 11,
   "metadata": {},
   "outputs": [],
   "source": [
    "#df_pressure tosql\n"
   ]
  },
  {
   "cell_type": "code",
   "execution_count": 12,
   "metadata": {},
   "outputs": [
    {
     "data": {
      "image/png": "[encoded data removed]",
      "text/plain": [
       "<Figure size 640x480 with 1 Axes>"
      ]
     },
     "metadata": {},
     "output_type": "display_data"
    }
   ],
   "source": [
    "import matplotlib.pyplot as plt\n",
    "import numpy as np\n",
    "import pandas as pd\n",
    "from scipy.ndimage import gaussian_filter\n",
    "\n",
    "from mplsoccer import Pitch\n",
    "\n",
    "pitch = Pitch(line_zorder=2)\n",
    "fig, ax = pitch.draw()\n",
    "\n",
    "# Calculate the bin statistic with weights based on pressure rating\n",
    "bin_statistic = pitch.bin_statistic(\n",
    "    df_pressure['x_Point'], df_pressure['y_Point'], df_pressure['PressureRating'], bins=(10, 5)\n",
    ")\n",
    "\n",
    "# Gaussian smoothing of the bin statistic\n",
    "bin_statistic['statistic'] = gaussian_filter(bin_statistic['statistic'], sigma=1)\n",
    "\n",
    "# Plot the smoothed heatmap\n",
    "heatmap = pitch.heatmap(bin_statistic, ax=ax, cmap='Reds', edgecolor='#f9f9f9', alpha=0.5)\n",
    "ax.text(45, 0, \"Pressure Rating\", fontsize=12, color='black', weight='bold')\n",
    "\n",
    "plt.show()\n"
   ]
  },
  {
   "cell_type": "code",
   "execution_count": null,
   "metadata": {},
   "outputs": [],
   "source": []
  }
 ],
 "metadata": {
  "kernelspec": {
   "display_name": "Python 3",
   "language": "python",
   "name": "python3"
  },
  "language_info": {
   "codemirror_mode": {
    "name": "ipython",
    "version": 3
   },
   "file_extension": ".py",
   "mimetype": "text/x-python",
   "name": "python",
   "nbconvert_exporter": "python",
   "pygments_lexer": "ipython3",
   "version": "3.10.11"
  }
 },
 "nbformat": 4,
 "nbformat_minor": 2
}
